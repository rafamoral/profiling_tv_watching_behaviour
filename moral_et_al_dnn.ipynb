{
 "cells": [
  {
   "cell_type": "markdown",
   "id": "1e23c4d7-91fd-4038-b7b2-8b5447cff149",
   "metadata": {},
   "source": [
    "# Deep Neural Network acrchitecture\n",
    "\n",
    "Purpose: Create DNN architecture.\n",
    "\n",
    "Author: Gabriel Rodrigues Palma and Rafael de Andrade Moral"
   ]
  },
  {
   "cell_type": "code",
   "execution_count": 155,
   "id": "10e98038-d576-4100-a384-42a23b174981",
   "metadata": {},
   "outputs": [
    {
     "name": "stdout",
     "output_type": "stream",
     "text": [
      "Num GPUs Available:  1\n"
     ]
    }
   ],
   "source": [
    "# visualisation modules\n",
    "import matplotlib.pyplot as plt\n",
    "\n",
    "# Data manipulation modules\n",
    "import numpy as np\n",
    "import pandas as pd\n",
    "\n",
    "# Machine learning modules\n",
    "from sklearn.model_selection import train_test_split\n",
    "from sklearn.preprocessing import MinMaxScaler\n",
    "\n",
    "# Deep learning modules\n",
    "import tensorflow as tf\n",
    "from tensorflow import keras\n",
    "from tensorflow.keras.layers import Dense, Dropout, BatchNormalization\n",
    "from tensorflow.keras.models import Sequential\n",
    "from tensorflow.keras import layers\n",
    "\n",
    "# Machine learning packages\n",
    "from sklearn.preprocessing import LabelEncoder\n",
    "from sklearn.preprocessing import OneHotEncoder\n",
    "import collections\n",
    "from sklearn.model_selection import train_test_split\n",
    "from sklearn.utils import shuffle\n",
    "from sklearn.model_selection import cross_val_score, RandomizedSearchCV, KFold\n",
    "from sklearn.model_selection import LeaveOneOut\n",
    "from sklearn.decomposition import PCA\n",
    "from sklearn.preprocessing import MinMaxScaler\n",
    "from sklearn import svm\n",
    "from sklearn.metrics import accuracy_score, confusion_matrix\n",
    "from sklearn.ensemble import RandomForestClassifier\n",
    "from sklearn.neighbors import KNeighborsClassifier\n",
    "from sklearn.linear_model import Lasso\n",
    "from sklearn.preprocessing import LabelBinarizer\n",
    "\n",
    "# Additional packages\n",
    "from keras.layers import Input, Dense, Conv2D, MaxPooling2D, Conv2DTranspose, UpSampling2D, Flatten, Reshape\n",
    "from keras.models import Model\n",
    "from keras.optimizers import Adam\n",
    "from keras.regularizers import L1\n",
    "#from scikeras.wrappers import KerasClassifier\n",
    "from keras import metrics\n",
    "import numpy as np\n",
    "import matplotlib.pyplot as plt\n",
    "import keras.backend as K\n",
    "import tensorflow as tf\n",
    "\n",
    "# Testing GPU from MacOs\n",
    "print(\"Num GPUs Available: \", len(tf.config.experimental.list_physical_devices('GPU')))"
   ]
  },
  {
   "cell_type": "markdown",
   "id": "b2422d2e",
   "metadata": {},
   "source": [
    "# Functions used in the project"
   ]
  },
  {
   "cell_type": "code",
   "execution_count": 156,
   "id": "1fbd2cbf",
   "metadata": {},
   "outputs": [],
   "source": [
    "def create_dataset(path):\n",
    "    ''' This function reads and prepare the datasets for applying the ML and DL methods'''\n",
    "    data = pd.read_csv(path)\n",
    "    data = data.drop(columns = 'Unnamed: 0')\n",
    "    explanatory_variables = data.drop(columns = 'status')\n",
    "    response_variables = data['status']\n",
    "    binarizer = LabelBinarizer()\n",
    "    response_variables = binarizer.fit_transform(response_variables)\n",
    "    \n",
    "    onehot_encoder = OneHotEncoder(sparse=False)\n",
    "    hot_encode_response_variable = onehot_encoder.fit_transform(np.array(response_variables).reshape(-1, 1))  \n",
    "    \n",
    "    scaler = MinMaxScaler() # Scaling the variables\n",
    "    scaler.fit(explanatory_variables)\n",
    "    explanatory_variables = scaler.transform(explanatory_variables)\n",
    "\n",
    "    \n",
    "    return(explanatory_variables, hot_encode_response_variable, response_variables)"
   ]
  },
  {
   "cell_type": "markdown",
   "id": "13f48f9a-05ad-4bdf-a6ed-e1505511eafa",
   "metadata": {},
   "source": [
    "# Importing data"
   ]
  },
  {
   "cell_type": "code",
   "execution_count": 128,
   "id": "40def1bf-7dee-40a5-b9c7-72f0d50ec755",
   "metadata": {},
   "outputs": [],
   "source": [
    "explanatory_variables, hot_encode_response_variable, response_variables = create_dataset('../../input_data/customer_profiles_from_model.csv')"
   ]
  },
  {
   "cell_type": "code",
   "execution_count": 137,
   "id": "291de9be-3973-43e8-86e7-9faac4bc7649",
   "metadata": {},
   "outputs": [],
   "source": [
    "X_train, X_test, y_train, y_test = train_test_split(explanatory_variables, \n",
    "                                                    response_variables, \n",
    "                                                    test_size=0.3, random_state = 42)"
   ]
  },
  {
   "cell_type": "code",
   "execution_count": 143,
   "id": "e193efab",
   "metadata": {},
   "outputs": [],
   "source": [
    "naive_explanatory_variables, naive_hot_encode_response_variable, naive_response_variables = create_dataset('../../input_data/raw_data_naive.csv')"
   ]
  },
  {
   "cell_type": "code",
   "execution_count": 144,
   "id": "ff986416",
   "metadata": {},
   "outputs": [],
   "source": [
    "naive_X_train, naive_X_test, naive_y_train, naive_y_test = train_test_split(naive_explanatory_variables, \n",
    "                                                    naive_response_variables, \n",
    "                                                    test_size=0.3, random_state = 42)"
   ]
  },
  {
   "cell_type": "markdown",
   "id": "1811b44b-b66d-425a-87aa-f60579f568b3",
   "metadata": {},
   "source": [
    "# Obtaining DNN performance with proposed data"
   ]
  },
  {
   "cell_type": "code",
   "execution_count": 140,
   "id": "5ed3ce59",
   "metadata": {},
   "outputs": [
    {
     "name": "stdout",
     "output_type": "stream",
     "text": [
      "Model: \"sequential_32\"\n",
      "_________________________________________________________________\n",
      " Layer (type)                Output Shape              Param #   \n",
      "=================================================================\n",
      " dense_557 (Dense)           (None, 11)                132       \n",
      "                                                                 \n",
      " dense_558 (Dense)           (None, 12)                144       \n",
      "                                                                 \n",
      " dense_559 (Dense)           (None, 13)                169       \n",
      "                                                                 \n",
      " dense_560 (Dense)           (None, 14)                196       \n",
      "                                                                 \n",
      " dense_561 (Dense)           (None, 15)                225       \n",
      "                                                                 \n",
      " dense_562 (Dense)           (None, 14)                224       \n",
      "                                                                 \n",
      " dense_563 (Dense)           (None, 13)                195       \n",
      "                                                                 \n",
      " dense_564 (Dense)           (None, 12)                168       \n",
      "                                                                 \n",
      " dense_565 (Dense)           (None, 11)                143       \n",
      "                                                                 \n",
      " dense_566 (Dense)           (None, 10)                120       \n",
      "                                                                 \n",
      " dense_567 (Dense)           (None, 9)                 99        \n",
      "                                                                 \n",
      " dense_568 (Dense)           (None, 8)                 80        \n",
      "                                                                 \n",
      " dense_569 (Dense)           (None, 7)                 63        \n",
      "                                                                 \n",
      " dense_570 (Dense)           (None, 6)                 48        \n",
      "                                                                 \n",
      " dense_571 (Dense)           (None, 5)                 35        \n",
      "                                                                 \n",
      " dense_572 (Dense)           (None, 4)                 24        \n",
      "                                                                 \n",
      " dense_573 (Dense)           (None, 3)                 15        \n",
      "                                                                 \n",
      " dense_574 (Dense)           (None, 1)                 4         \n",
      "                                                                 \n",
      "=================================================================\n",
      "Total params: 2,084\n",
      "Trainable params: 2,084\n",
      "Non-trainable params: 0\n",
      "_________________________________________________________________\n"
     ]
    }
   ],
   "source": [
    "model = Sequential()\n",
    "model.add(Dense(11, input_shape=(11,)))\n",
    "model.add(Dense(12, activation = 'relu'))\n",
    "model.add(Dense(13, activation = 'relu'))\n",
    "model.add(Dense(14, activation = 'relu'))\n",
    "model.add(Dense(15, activation = 'relu'))\n",
    "model.add(Dense(14, activation = 'relu'))\n",
    "model.add(Dense(13, activation = 'relu'))\n",
    "model.add(Dense(12, activation = 'relu'))\n",
    "model.add(Dense(11, activation = 'relu'))\n",
    "model.add(Dense(10, activation = 'relu'))\n",
    "model.add(Dense(9, activation = 'relu'))\n",
    "model.add(Dense(8, activation = 'relu'))\n",
    "model.add(Dense(7, activation = 'relu'))\n",
    "model.add(Dense(6, activation = 'relu'))\n",
    "model.add(Dense(5, activation = 'relu'))\n",
    "model.add(Dense(4, activation = 'relu'))\n",
    "model.add(Dense(3, activation = 'relu'))\n",
    "model.add(Dense(1, activation = 'sigmoid'))\n",
    "model.compile(optimizer = 'adam', \n",
    "              loss = 'mse', \n",
    "             metrics = ['accuracy', 'TruePositives', 'FalsePositives', 'FalseNegatives', 'TrueNegatives'])\n",
    "model.summary()"
   ]
  },
  {
   "cell_type": "code",
   "execution_count": 145,
   "id": "03f52d3a-4033-4483-8ce0-47acfbc26e26",
   "metadata": {
    "jupyter": {
     "outputs_hidden": true
    },
    "scrolled": true,
    "tags": []
   },
   "outputs": [
    {
     "name": "stdout",
     "output_type": "stream",
     "text": [
      "Epoch 1/100\n",
      "3/3 [==============================] - 0s 37ms/step - loss: 0.1794 - accuracy: 0.8571 - true_positives: 14.0000 - false_positives: 3.0000 - false_negatives: 1.0000 - true_negatives: 10.0000 - val_loss: 0.1862 - val_accuracy: 0.8333 - val_true_positives: 5.0000 - val_false_positives: 2.0000 - val_false_negatives: 0.0000e+00 - val_true_negatives: 5.0000\n",
      "Epoch 2/100\n",
      "3/3 [==============================] - 0s 31ms/step - loss: 0.1840 - accuracy: 0.7857 - true_positives: 14.0000 - false_positives: 5.0000 - false_negatives: 1.0000 - true_negatives: 8.0000 - val_loss: 0.1960 - val_accuracy: 0.7500 - val_true_positives: 5.0000 - val_false_positives: 3.0000 - val_false_negatives: 0.0000e+00 - val_true_negatives: 4.0000\n",
      "Epoch 3/100\n",
      "3/3 [==============================] - 0s 33ms/step - loss: 0.1815 - accuracy: 0.7857 - true_positives: 14.0000 - false_positives: 5.0000 - false_negatives: 1.0000 - true_negatives: 8.0000 - val_loss: 0.1775 - val_accuracy: 0.8333 - val_true_positives: 5.0000 - val_false_positives: 2.0000 - val_false_negatives: 0.0000e+00 - val_true_negatives: 5.0000\n",
      "Epoch 4/100\n",
      "3/3 [==============================] - 0s 31ms/step - loss: 0.1793 - accuracy: 0.8929 - true_positives: 14.0000 - false_positives: 2.0000 - false_negatives: 1.0000 - true_negatives: 11.0000 - val_loss: 0.2030 - val_accuracy: 0.7500 - val_true_positives: 5.0000 - val_false_positives: 3.0000 - val_false_negatives: 0.0000e+00 - val_true_negatives: 4.0000\n",
      "Epoch 5/100\n",
      "3/3 [==============================] - 0s 30ms/step - loss: 0.1809 - accuracy: 0.7143 - true_positives: 14.0000 - false_positives: 7.0000 - false_negatives: 1.0000 - true_negatives: 6.0000 - val_loss: 0.1874 - val_accuracy: 0.8333 - val_true_positives: 5.0000 - val_false_positives: 2.0000 - val_false_negatives: 0.0000e+00 - val_true_negatives: 5.0000\n",
      "Epoch 6/100\n",
      "3/3 [==============================] - 0s 32ms/step - loss: 0.1749 - accuracy: 0.8929 - true_positives: 14.0000 - false_positives: 2.0000 - false_negatives: 1.0000 - true_negatives: 11.0000 - val_loss: 0.1848 - val_accuracy: 0.8333 - val_true_positives: 5.0000 - val_false_positives: 2.0000 - val_false_negatives: 0.0000e+00 - val_true_negatives: 5.0000\n",
      "Epoch 7/100\n",
      "3/3 [==============================] - 0s 30ms/step - loss: 0.1703 - accuracy: 0.8929 - true_positives: 14.0000 - false_positives: 2.0000 - false_negatives: 1.0000 - true_negatives: 11.0000 - val_loss: 0.1923 - val_accuracy: 0.8333 - val_true_positives: 5.0000 - val_false_positives: 2.0000 - val_false_negatives: 0.0000e+00 - val_true_negatives: 5.0000\n",
      "Epoch 8/100\n",
      "3/3 [==============================] - 0s 32ms/step - loss: 0.1700 - accuracy: 0.8571 - true_positives: 14.0000 - false_positives: 3.0000 - false_negatives: 1.0000 - true_negatives: 10.0000 - val_loss: 0.1913 - val_accuracy: 0.8333 - val_true_positives: 5.0000 - val_false_positives: 2.0000 - val_false_negatives: 0.0000e+00 - val_true_negatives: 5.0000\n",
      "Epoch 9/100\n",
      "3/3 [==============================] - 0s 30ms/step - loss: 0.1687 - accuracy: 0.8929 - true_positives: 14.0000 - false_positives: 2.0000 - false_negatives: 1.0000 - true_negatives: 11.0000 - val_loss: 0.1799 - val_accuracy: 0.8333 - val_true_positives: 5.0000 - val_false_positives: 2.0000 - val_false_negatives: 0.0000e+00 - val_true_negatives: 5.0000\n",
      "Epoch 10/100\n",
      "3/3 [==============================] - 0s 29ms/step - loss: 0.1714 - accuracy: 0.8929 - true_positives: 14.0000 - false_positives: 2.0000 - false_negatives: 1.0000 - true_negatives: 11.0000 - val_loss: 0.1958 - val_accuracy: 0.8333 - val_true_positives: 5.0000 - val_false_positives: 2.0000 - val_false_negatives: 0.0000e+00 - val_true_negatives: 5.0000\n",
      "Epoch 11/100\n",
      "3/3 [==============================] - 0s 30ms/step - loss: 0.1659 - accuracy: 0.8571 - true_positives: 14.0000 - false_positives: 3.0000 - false_negatives: 1.0000 - true_negatives: 10.0000 - val_loss: 0.1870 - val_accuracy: 0.8333 - val_true_positives: 5.0000 - val_false_positives: 2.0000 - val_false_negatives: 0.0000e+00 - val_true_negatives: 5.0000\n",
      "Epoch 12/100\n",
      "3/3 [==============================] - 0s 32ms/step - loss: 0.1683 - accuracy: 0.8929 - true_positives: 14.0000 - false_positives: 2.0000 - false_negatives: 1.0000 - true_negatives: 11.0000 - val_loss: 0.1833 - val_accuracy: 0.8333 - val_true_positives: 5.0000 - val_false_positives: 2.0000 - val_false_negatives: 0.0000e+00 - val_true_negatives: 5.0000\n",
      "Epoch 13/100\n",
      "3/3 [==============================] - 0s 29ms/step - loss: 0.1764 - accuracy: 0.8214 - true_positives: 14.0000 - false_positives: 4.0000 - false_negatives: 1.0000 - true_negatives: 9.0000 - val_loss: 0.2052 - val_accuracy: 0.7500 - val_true_positives: 5.0000 - val_false_positives: 3.0000 - val_false_negatives: 0.0000e+00 - val_true_negatives: 4.0000\n",
      "Epoch 14/100\n",
      "3/3 [==============================] - 0s 31ms/step - loss: 0.1671 - accuracy: 0.8571 - true_positives: 14.0000 - false_positives: 3.0000 - false_negatives: 1.0000 - true_negatives: 10.0000 - val_loss: 0.1800 - val_accuracy: 0.8333 - val_true_positives: 5.0000 - val_false_positives: 2.0000 - val_false_negatives: 0.0000e+00 - val_true_negatives: 5.0000\n",
      "Epoch 15/100\n",
      "3/3 [==============================] - 0s 31ms/step - loss: 0.1663 - accuracy: 0.8929 - true_positives: 14.0000 - false_positives: 2.0000 - false_negatives: 1.0000 - true_negatives: 11.0000 - val_loss: 0.1870 - val_accuracy: 0.8333 - val_true_positives: 5.0000 - val_false_positives: 2.0000 - val_false_negatives: 0.0000e+00 - val_true_negatives: 5.0000\n",
      "Epoch 16/100\n",
      "3/3 [==============================] - 0s 32ms/step - loss: 0.1574 - accuracy: 0.8929 - true_positives: 14.0000 - false_positives: 2.0000 - false_negatives: 1.0000 - true_negatives: 11.0000 - val_loss: 0.2132 - val_accuracy: 0.7500 - val_true_positives: 5.0000 - val_false_positives: 3.0000 - val_false_negatives: 0.0000e+00 - val_true_negatives: 4.0000\n",
      "Epoch 17/100\n",
      "3/3 [==============================] - 0s 31ms/step - loss: 0.1718 - accuracy: 0.7143 - true_positives: 14.0000 - false_positives: 7.0000 - false_negatives: 1.0000 - true_negatives: 6.0000 - val_loss: 0.1840 - val_accuracy: 0.8333 - val_true_positives: 5.0000 - val_false_positives: 2.0000 - val_false_negatives: 0.0000e+00 - val_true_negatives: 5.0000\n",
      "Epoch 18/100\n",
      "3/3 [==============================] - 0s 31ms/step - loss: 0.1600 - accuracy: 0.8929 - true_positives: 14.0000 - false_positives: 2.0000 - false_negatives: 1.0000 - true_negatives: 11.0000 - val_loss: 0.1741 - val_accuracy: 0.8333 - val_true_positives: 5.0000 - val_false_positives: 2.0000 - val_false_negatives: 0.0000e+00 - val_true_negatives: 5.0000\n",
      "Epoch 19/100\n",
      "3/3 [==============================] - 0s 30ms/step - loss: 0.1635 - accuracy: 0.8929 - true_positives: 14.0000 - false_positives: 2.0000 - false_negatives: 1.0000 - true_negatives: 11.0000 - val_loss: 0.1842 - val_accuracy: 0.8333 - val_true_positives: 5.0000 - val_false_positives: 2.0000 - val_false_negatives: 0.0000e+00 - val_true_negatives: 5.0000\n",
      "Epoch 20/100\n",
      "3/3 [==============================] - 0s 31ms/step - loss: 0.1626 - accuracy: 0.8571 - true_positives: 14.0000 - false_positives: 3.0000 - false_negatives: 1.0000 - true_negatives: 10.0000 - val_loss: 0.2117 - val_accuracy: 0.7500 - val_true_positives: 5.0000 - val_false_positives: 3.0000 - val_false_negatives: 0.0000e+00 - val_true_negatives: 4.0000\n",
      "Epoch 21/100\n",
      "3/3 [==============================] - 0s 30ms/step - loss: 0.1618 - accuracy: 0.8214 - true_positives: 14.0000 - false_positives: 4.0000 - false_negatives: 1.0000 - true_negatives: 9.0000 - val_loss: 0.1710 - val_accuracy: 0.8333 - val_true_positives: 5.0000 - val_false_positives: 2.0000 - val_false_negatives: 0.0000e+00 - val_true_negatives: 5.0000\n",
      "Epoch 22/100\n",
      "3/3 [==============================] - 0s 29ms/step - loss: 0.1850 - accuracy: 0.8571 - true_positives: 13.0000 - false_positives: 2.0000 - false_negatives: 2.0000 - true_negatives: 11.0000 - val_loss: 0.1458 - val_accuracy: 0.9167 - val_true_positives: 5.0000 - val_false_positives: 1.0000 - val_false_negatives: 0.0000e+00 - val_true_negatives: 6.0000\n",
      "Epoch 23/100\n"
     ]
    },
    {
     "name": "stdout",
     "output_type": "stream",
     "text": [
      "3/3 [==============================] - 0s 31ms/step - loss: 0.1758 - accuracy: 0.8571 - true_positives: 13.0000 - false_positives: 2.0000 - false_negatives: 2.0000 - true_negatives: 11.0000 - val_loss: 0.1960 - val_accuracy: 0.8333 - val_true_positives: 5.0000 - val_false_positives: 2.0000 - val_false_negatives: 0.0000e+00 - val_true_negatives: 5.0000\n",
      "Epoch 24/100\n",
      "3/3 [==============================] - 0s 32ms/step - loss: 0.1866 - accuracy: 0.7500 - true_positives: 14.0000 - false_positives: 6.0000 - false_negatives: 1.0000 - true_negatives: 7.0000 - val_loss: 0.2419 - val_accuracy: 0.6667 - val_true_positives: 5.0000 - val_false_positives: 4.0000 - val_false_negatives: 0.0000e+00 - val_true_negatives: 3.0000\n",
      "Epoch 25/100\n",
      "3/3 [==============================] - 0s 29ms/step - loss: 0.1931 - accuracy: 0.7143 - true_positives: 14.0000 - false_positives: 7.0000 - false_negatives: 1.0000 - true_negatives: 6.0000 - val_loss: 0.1834 - val_accuracy: 0.8333 - val_true_positives: 5.0000 - val_false_positives: 2.0000 - val_false_negatives: 0.0000e+00 - val_true_negatives: 5.0000\n",
      "Epoch 26/100\n",
      "3/3 [==============================] - 0s 28ms/step - loss: 0.1584 - accuracy: 0.8571 - true_positives: 13.0000 - false_positives: 2.0000 - false_negatives: 2.0000 - true_negatives: 11.0000 - val_loss: 0.1418 - val_accuracy: 0.9167 - val_true_positives: 5.0000 - val_false_positives: 1.0000 - val_false_negatives: 0.0000e+00 - val_true_negatives: 6.0000\n",
      "Epoch 27/100\n",
      "3/3 [==============================] - 0s 29ms/step - loss: 0.2259 - accuracy: 0.6071 - true_positives: 6.0000 - false_positives: 2.0000 - false_negatives: 9.0000 - true_negatives: 11.0000 - val_loss: 0.1412 - val_accuracy: 0.9167 - val_true_positives: 5.0000 - val_false_positives: 1.0000 - val_false_negatives: 0.0000e+00 - val_true_negatives: 6.0000\n",
      "Epoch 28/100\n",
      "3/3 [==============================] - 0s 28ms/step - loss: 0.1855 - accuracy: 0.8214 - true_positives: 12.0000 - false_positives: 2.0000 - false_negatives: 3.0000 - true_negatives: 11.0000 - val_loss: 0.1680 - val_accuracy: 0.8333 - val_true_positives: 5.0000 - val_false_positives: 2.0000 - val_false_negatives: 0.0000e+00 - val_true_negatives: 5.0000\n",
      "Epoch 29/100\n",
      "3/3 [==============================] - 0s 30ms/step - loss: 0.1839 - accuracy: 0.7143 - true_positives: 14.0000 - false_positives: 7.0000 - false_negatives: 1.0000 - true_negatives: 6.0000 - val_loss: 0.2284 - val_accuracy: 0.6667 - val_true_positives: 5.0000 - val_false_positives: 4.0000 - val_false_negatives: 0.0000e+00 - val_true_negatives: 3.0000\n",
      "Epoch 30/100\n",
      "3/3 [==============================] - 0s 32ms/step - loss: 0.1966 - accuracy: 0.7143 - true_positives: 14.0000 - false_positives: 7.0000 - false_negatives: 1.0000 - true_negatives: 6.0000 - val_loss: 0.1951 - val_accuracy: 0.7500 - val_true_positives: 5.0000 - val_false_positives: 3.0000 - val_false_negatives: 0.0000e+00 - val_true_negatives: 4.0000\n",
      "Epoch 31/100\n",
      "3/3 [==============================] - 0s 31ms/step - loss: 0.1473 - accuracy: 0.8929 - true_positives: 14.0000 - false_positives: 2.0000 - false_negatives: 1.0000 - true_negatives: 11.0000 - val_loss: 0.1667 - val_accuracy: 0.8333 - val_true_positives: 5.0000 - val_false_positives: 2.0000 - val_false_negatives: 0.0000e+00 - val_true_negatives: 5.0000\n",
      "Epoch 32/100\n",
      "3/3 [==============================] - 0s 29ms/step - loss: 0.1593 - accuracy: 0.8929 - true_positives: 14.0000 - false_positives: 2.0000 - false_negatives: 1.0000 - true_negatives: 11.0000 - val_loss: 0.1550 - val_accuracy: 0.8333 - val_true_positives: 5.0000 - val_false_positives: 2.0000 - val_false_negatives: 0.0000e+00 - val_true_negatives: 5.0000\n",
      "Epoch 33/100\n",
      "3/3 [==============================] - 0s 28ms/step - loss: 0.1581 - accuracy: 0.8929 - true_positives: 14.0000 - false_positives: 2.0000 - false_negatives: 1.0000 - true_negatives: 11.0000 - val_loss: 0.1660 - val_accuracy: 0.8333 - val_true_positives: 5.0000 - val_false_positives: 2.0000 - val_false_negatives: 0.0000e+00 - val_true_negatives: 5.0000\n",
      "Epoch 34/100\n",
      "3/3 [==============================] - 0s 31ms/step - loss: 0.1496 - accuracy: 0.8929 - true_positives: 14.0000 - false_positives: 2.0000 - false_negatives: 1.0000 - true_negatives: 11.0000 - val_loss: 0.1833 - val_accuracy: 0.8333 - val_true_positives: 5.0000 - val_false_positives: 2.0000 - val_false_negatives: 0.0000e+00 - val_true_negatives: 5.0000\n",
      "Epoch 35/100\n",
      "3/3 [==============================] - 0s 28ms/step - loss: 0.1657 - accuracy: 0.7500 - true_positives: 14.0000 - false_positives: 6.0000 - false_negatives: 1.0000 - true_negatives: 7.0000 - val_loss: 0.1801 - val_accuracy: 0.8333 - val_true_positives: 5.0000 - val_false_positives: 2.0000 - val_false_negatives: 0.0000e+00 - val_true_negatives: 5.0000\n",
      "Epoch 36/100\n",
      "3/3 [==============================] - 0s 28ms/step - loss: 0.1492 - accuracy: 0.8571 - true_positives: 14.0000 - false_positives: 3.0000 - false_negatives: 1.0000 - true_negatives: 10.0000 - val_loss: 0.1590 - val_accuracy: 0.8333 - val_true_positives: 5.0000 - val_false_positives: 2.0000 - val_false_negatives: 0.0000e+00 - val_true_negatives: 5.0000\n",
      "Epoch 37/100\n",
      "3/3 [==============================] - 0s 29ms/step - loss: 0.1600 - accuracy: 0.8571 - true_positives: 13.0000 - false_positives: 2.0000 - false_negatives: 2.0000 - true_negatives: 11.0000 - val_loss: 0.1424 - val_accuracy: 0.8333 - val_true_positives: 5.0000 - val_false_positives: 2.0000 - val_false_negatives: 0.0000e+00 - val_true_negatives: 5.0000\n",
      "Epoch 38/100\n",
      "3/3 [==============================] - 0s 29ms/step - loss: 0.1676 - accuracy: 0.8571 - true_positives: 13.0000 - false_positives: 2.0000 - false_negatives: 2.0000 - true_negatives: 11.0000 - val_loss: 0.1504 - val_accuracy: 0.8333 - val_true_positives: 5.0000 - val_false_positives: 2.0000 - val_false_negatives: 0.0000e+00 - val_true_negatives: 5.0000\n",
      "Epoch 39/100\n",
      "3/3 [==============================] - 0s 29ms/step - loss: 0.1549 - accuracy: 0.8929 - true_positives: 14.0000 - false_positives: 2.0000 - false_negatives: 1.0000 - true_negatives: 11.0000 - val_loss: 0.1670 - val_accuracy: 0.8333 - val_true_positives: 5.0000 - val_false_positives: 2.0000 - val_false_negatives: 0.0000e+00 - val_true_negatives: 5.0000\n",
      "Epoch 40/100\n",
      "3/3 [==============================] - 0s 34ms/step - loss: 0.1447 - accuracy: 0.8571 - true_positives: 14.0000 - false_positives: 3.0000 - false_negatives: 1.0000 - true_negatives: 10.0000 - val_loss: 0.1684 - val_accuracy: 0.8333 - val_true_positives: 5.0000 - val_false_positives: 2.0000 - val_false_negatives: 0.0000e+00 - val_true_negatives: 5.0000\n",
      "Epoch 41/100\n",
      "3/3 [==============================] - 0s 31ms/step - loss: 0.1448 - accuracy: 0.8929 - true_positives: 14.0000 - false_positives: 2.0000 - false_negatives: 1.0000 - true_negatives: 11.0000 - val_loss: 0.1609 - val_accuracy: 0.8333 - val_true_positives: 5.0000 - val_false_positives: 2.0000 - val_false_negatives: 0.0000e+00 - val_true_negatives: 5.0000\n",
      "Epoch 42/100\n",
      "3/3 [==============================] - 0s 29ms/step - loss: 0.1491 - accuracy: 0.8929 - true_positives: 14.0000 - false_positives: 2.0000 - false_negatives: 1.0000 - true_negatives: 11.0000 - val_loss: 0.1564 - val_accuracy: 0.8333 - val_true_positives: 5.0000 - val_false_positives: 2.0000 - val_false_negatives: 0.0000e+00 - val_true_negatives: 5.0000\n",
      "Epoch 43/100\n",
      "3/3 [==============================] - 0s 31ms/step - loss: 0.1446 - accuracy: 0.8929 - true_positives: 14.0000 - false_positives: 2.0000 - false_negatives: 1.0000 - true_negatives: 11.0000 - val_loss: 0.1620 - val_accuracy: 0.8333 - val_true_positives: 5.0000 - val_false_positives: 2.0000 - val_false_negatives: 0.0000e+00 - val_true_negatives: 5.0000\n",
      "Epoch 44/100\n",
      "3/3 [==============================] - 0s 33ms/step - loss: 0.1404 - accuracy: 0.8929 - true_positives: 14.0000 - false_positives: 2.0000 - false_negatives: 1.0000 - true_negatives: 11.0000 - val_loss: 0.1661 - val_accuracy: 0.8333 - val_true_positives: 5.0000 - val_false_positives: 2.0000 - val_false_negatives: 0.0000e+00 - val_true_negatives: 5.0000\n",
      "Epoch 45/100\n"
     ]
    },
    {
     "name": "stdout",
     "output_type": "stream",
     "text": [
      "3/3 [==============================] - 0s 29ms/step - loss: 0.1376 - accuracy: 0.8929 - true_positives: 14.0000 - false_positives: 2.0000 - false_negatives: 1.0000 - true_negatives: 11.0000 - val_loss: 0.1606 - val_accuracy: 0.8333 - val_true_positives: 5.0000 - val_false_positives: 2.0000 - val_false_negatives: 0.0000e+00 - val_true_negatives: 5.0000\n",
      "Epoch 46/100\n",
      "3/3 [==============================] - 0s 29ms/step - loss: 0.1394 - accuracy: 0.8929 - true_positives: 14.0000 - false_positives: 2.0000 - false_negatives: 1.0000 - true_negatives: 11.0000 - val_loss: 0.1608 - val_accuracy: 0.8333 - val_true_positives: 5.0000 - val_false_positives: 2.0000 - val_false_negatives: 0.0000e+00 - val_true_negatives: 5.0000\n",
      "Epoch 47/100\n",
      "3/3 [==============================] - 0s 29ms/step - loss: 0.1366 - accuracy: 0.8929 - true_positives: 14.0000 - false_positives: 2.0000 - false_negatives: 1.0000 - true_negatives: 11.0000 - val_loss: 0.1729 - val_accuracy: 0.8333 - val_true_positives: 5.0000 - val_false_positives: 2.0000 - val_false_negatives: 0.0000e+00 - val_true_negatives: 5.0000\n",
      "Epoch 48/100\n",
      "3/3 [==============================] - 0s 28ms/step - loss: 0.1377 - accuracy: 0.8571 - true_positives: 14.0000 - false_positives: 3.0000 - false_negatives: 1.0000 - true_negatives: 10.0000 - val_loss: 0.1748 - val_accuracy: 0.8333 - val_true_positives: 5.0000 - val_false_positives: 2.0000 - val_false_negatives: 0.0000e+00 - val_true_negatives: 5.0000\n",
      "Epoch 49/100\n",
      "3/3 [==============================] - 0s 28ms/step - loss: 0.1320 - accuracy: 0.8929 - true_positives: 14.0000 - false_positives: 2.0000 - false_negatives: 1.0000 - true_negatives: 11.0000 - val_loss: 0.1641 - val_accuracy: 0.8333 - val_true_positives: 5.0000 - val_false_positives: 2.0000 - val_false_negatives: 0.0000e+00 - val_true_negatives: 5.0000\n",
      "Epoch 50/100\n",
      "3/3 [==============================] - 0s 28ms/step - loss: 0.1319 - accuracy: 0.8929 - true_positives: 14.0000 - false_positives: 2.0000 - false_negatives: 1.0000 - true_negatives: 11.0000 - val_loss: 0.1605 - val_accuracy: 0.8333 - val_true_positives: 5.0000 - val_false_positives: 2.0000 - val_false_negatives: 0.0000e+00 - val_true_negatives: 5.0000\n",
      "Epoch 51/100\n",
      "3/3 [==============================] - 0s 30ms/step - loss: 0.1336 - accuracy: 0.8929 - true_positives: 14.0000 - false_positives: 2.0000 - false_negatives: 1.0000 - true_negatives: 11.0000 - val_loss: 0.1606 - val_accuracy: 0.8333 - val_true_positives: 5.0000 - val_false_positives: 2.0000 - val_false_negatives: 0.0000e+00 - val_true_negatives: 5.0000\n",
      "Epoch 52/100\n",
      "3/3 [==============================] - 0s 28ms/step - loss: 0.1295 - accuracy: 0.8929 - true_positives: 14.0000 - false_positives: 2.0000 - false_negatives: 1.0000 - true_negatives: 11.0000 - val_loss: 0.1697 - val_accuracy: 0.8333 - val_true_positives: 5.0000 - val_false_positives: 2.0000 - val_false_negatives: 0.0000e+00 - val_true_negatives: 5.0000\n",
      "Epoch 53/100\n",
      "3/3 [==============================] - 0s 29ms/step - loss: 0.1326 - accuracy: 0.8571 - true_positives: 14.0000 - false_positives: 3.0000 - false_negatives: 1.0000 - true_negatives: 10.0000 - val_loss: 0.1648 - val_accuracy: 0.8333 - val_true_positives: 5.0000 - val_false_positives: 2.0000 - val_false_negatives: 0.0000e+00 - val_true_negatives: 5.0000\n",
      "Epoch 54/100\n",
      "3/3 [==============================] - 0s 28ms/step - loss: 0.1275 - accuracy: 0.8929 - true_positives: 14.0000 - false_positives: 2.0000 - false_negatives: 1.0000 - true_negatives: 11.0000 - val_loss: 0.1625 - val_accuracy: 0.8333 - val_true_positives: 5.0000 - val_false_positives: 2.0000 - val_false_negatives: 0.0000e+00 - val_true_negatives: 5.0000\n",
      "Epoch 55/100\n",
      "3/3 [==============================] - 0s 31ms/step - loss: 0.1276 - accuracy: 0.8929 - true_positives: 14.0000 - false_positives: 2.0000 - false_negatives: 1.0000 - true_negatives: 11.0000 - val_loss: 0.1662 - val_accuracy: 0.8333 - val_true_positives: 5.0000 - val_false_positives: 2.0000 - val_false_negatives: 0.0000e+00 - val_true_negatives: 5.0000\n",
      "Epoch 56/100\n",
      "3/3 [==============================] - 0s 29ms/step - loss: 0.1250 - accuracy: 0.8929 - true_positives: 14.0000 - false_positives: 2.0000 - false_negatives: 1.0000 - true_negatives: 11.0000 - val_loss: 0.1637 - val_accuracy: 0.8333 - val_true_positives: 5.0000 - val_false_positives: 2.0000 - val_false_negatives: 0.0000e+00 - val_true_negatives: 5.0000\n",
      "Epoch 57/100\n",
      "3/3 [==============================] - 0s 29ms/step - loss: 0.1238 - accuracy: 0.8929 - true_positives: 14.0000 - false_positives: 2.0000 - false_negatives: 1.0000 - true_negatives: 11.0000 - val_loss: 0.1619 - val_accuracy: 0.8333 - val_true_positives: 5.0000 - val_false_positives: 2.0000 - val_false_negatives: 0.0000e+00 - val_true_negatives: 5.0000\n",
      "Epoch 58/100\n",
      "3/3 [==============================] - 0s 28ms/step - loss: 0.1240 - accuracy: 0.8929 - true_positives: 14.0000 - false_positives: 2.0000 - false_negatives: 1.0000 - true_negatives: 11.0000 - val_loss: 0.1602 - val_accuracy: 0.8333 - val_true_positives: 5.0000 - val_false_positives: 2.0000 - val_false_negatives: 0.0000e+00 - val_true_negatives: 5.0000\n",
      "Epoch 59/100\n",
      "3/3 [==============================] - 0s 29ms/step - loss: 0.1227 - accuracy: 0.8929 - true_positives: 14.0000 - false_positives: 2.0000 - false_negatives: 1.0000 - true_negatives: 11.0000 - val_loss: 0.1634 - val_accuracy: 0.8333 - val_true_positives: 5.0000 - val_false_positives: 2.0000 - val_false_negatives: 0.0000e+00 - val_true_negatives: 5.0000\n",
      "Epoch 60/100\n",
      "3/3 [==============================] - 0s 30ms/step - loss: 0.1214 - accuracy: 0.8929 - true_positives: 14.0000 - false_positives: 2.0000 - false_negatives: 1.0000 - true_negatives: 11.0000 - val_loss: 0.1594 - val_accuracy: 0.8333 - val_true_positives: 5.0000 - val_false_positives: 2.0000 - val_false_negatives: 0.0000e+00 - val_true_negatives: 5.0000\n",
      "Epoch 61/100\n",
      "3/3 [==============================] - 0s 30ms/step - loss: 0.1201 - accuracy: 0.8929 - true_positives: 14.0000 - false_positives: 2.0000 - false_negatives: 1.0000 - true_negatives: 11.0000 - val_loss: 0.1591 - val_accuracy: 0.8333 - val_true_positives: 5.0000 - val_false_positives: 2.0000 - val_false_negatives: 0.0000e+00 - val_true_negatives: 5.0000\n",
      "Epoch 62/100\n",
      "3/3 [==============================] - 0s 30ms/step - loss: 0.1185 - accuracy: 0.8929 - true_positives: 14.0000 - false_positives: 2.0000 - false_negatives: 1.0000 - true_negatives: 11.0000 - val_loss: 0.1600 - val_accuracy: 0.8333 - val_true_positives: 5.0000 - val_false_positives: 2.0000 - val_false_negatives: 0.0000e+00 - val_true_negatives: 5.0000\n",
      "Epoch 63/100\n",
      "3/3 [==============================] - 0s 30ms/step - loss: 0.1184 - accuracy: 0.8929 - true_positives: 14.0000 - false_positives: 2.0000 - false_negatives: 1.0000 - true_negatives: 11.0000 - val_loss: 0.1590 - val_accuracy: 0.8333 - val_true_positives: 5.0000 - val_false_positives: 2.0000 - val_false_negatives: 0.0000e+00 - val_true_negatives: 5.0000\n",
      "Epoch 64/100\n",
      "3/3 [==============================] - 0s 29ms/step - loss: 0.1179 - accuracy: 0.8929 - true_positives: 14.0000 - false_positives: 2.0000 - false_negatives: 1.0000 - true_negatives: 11.0000 - val_loss: 0.1526 - val_accuracy: 0.8333 - val_true_positives: 5.0000 - val_false_positives: 2.0000 - val_false_negatives: 0.0000e+00 - val_true_negatives: 5.0000\n",
      "Epoch 65/100\n",
      "3/3 [==============================] - 0s 30ms/step - loss: 0.1174 - accuracy: 0.8929 - true_positives: 14.0000 - false_positives: 2.0000 - false_negatives: 1.0000 - true_negatives: 11.0000 - val_loss: 0.1545 - val_accuracy: 0.8333 - val_true_positives: 5.0000 - val_false_positives: 2.0000 - val_false_negatives: 0.0000e+00 - val_true_negatives: 5.0000\n",
      "Epoch 66/100\n",
      "3/3 [==============================] - 0s 30ms/step - loss: 0.1146 - accuracy: 0.8929 - true_positives: 14.0000 - false_positives: 2.0000 - false_negatives: 1.0000 - true_negatives: 11.0000 - val_loss: 0.1567 - val_accuracy: 0.8333 - val_true_positives: 5.0000 - val_false_positives: 2.0000 - val_false_negatives: 0.0000e+00 - val_true_negatives: 5.0000\n",
      "Epoch 67/100\n"
     ]
    },
    {
     "name": "stdout",
     "output_type": "stream",
     "text": [
      "3/3 [==============================] - 0s 30ms/step - loss: 0.1148 - accuracy: 0.8929 - true_positives: 14.0000 - false_positives: 2.0000 - false_negatives: 1.0000 - true_negatives: 11.0000 - val_loss: 0.1570 - val_accuracy: 0.8333 - val_true_positives: 5.0000 - val_false_positives: 2.0000 - val_false_negatives: 0.0000e+00 - val_true_negatives: 5.0000\n",
      "Epoch 68/100\n",
      "3/3 [==============================] - 0s 29ms/step - loss: 0.1140 - accuracy: 0.8929 - true_positives: 14.0000 - false_positives: 2.0000 - false_negatives: 1.0000 - true_negatives: 11.0000 - val_loss: 0.1496 - val_accuracy: 0.8333 - val_true_positives: 5.0000 - val_false_positives: 2.0000 - val_false_negatives: 0.0000e+00 - val_true_negatives: 5.0000\n",
      "Epoch 69/100\n",
      "3/3 [==============================] - 0s 29ms/step - loss: 0.1134 - accuracy: 0.8929 - true_positives: 14.0000 - false_positives: 2.0000 - false_negatives: 1.0000 - true_negatives: 11.0000 - val_loss: 0.1502 - val_accuracy: 0.8333 - val_true_positives: 5.0000 - val_false_positives: 2.0000 - val_false_negatives: 0.0000e+00 - val_true_negatives: 5.0000\n",
      "Epoch 70/100\n",
      "3/3 [==============================] - 0s 29ms/step - loss: 0.1124 - accuracy: 0.8929 - true_positives: 14.0000 - false_positives: 2.0000 - false_negatives: 1.0000 - true_negatives: 11.0000 - val_loss: 0.1547 - val_accuracy: 0.8333 - val_true_positives: 5.0000 - val_false_positives: 2.0000 - val_false_negatives: 0.0000e+00 - val_true_negatives: 5.0000\n",
      "Epoch 71/100\n",
      "3/3 [==============================] - 0s 30ms/step - loss: 0.1105 - accuracy: 0.8929 - true_positives: 14.0000 - false_positives: 2.0000 - false_negatives: 1.0000 - true_negatives: 11.0000 - val_loss: 0.1520 - val_accuracy: 0.8333 - val_true_positives: 5.0000 - val_false_positives: 2.0000 - val_false_negatives: 0.0000e+00 - val_true_negatives: 5.0000\n",
      "Epoch 72/100\n",
      "3/3 [==============================] - 0s 29ms/step - loss: 0.1097 - accuracy: 0.8929 - true_positives: 14.0000 - false_positives: 2.0000 - false_negatives: 1.0000 - true_negatives: 11.0000 - val_loss: 0.1500 - val_accuracy: 0.8333 - val_true_positives: 5.0000 - val_false_positives: 2.0000 - val_false_negatives: 0.0000e+00 - val_true_negatives: 5.0000\n",
      "Epoch 73/100\n",
      "3/3 [==============================] - 0s 30ms/step - loss: 0.1081 - accuracy: 0.8929 - true_positives: 14.0000 - false_positives: 2.0000 - false_negatives: 1.0000 - true_negatives: 11.0000 - val_loss: 0.1492 - val_accuracy: 0.8333 - val_true_positives: 5.0000 - val_false_positives: 2.0000 - val_false_negatives: 0.0000e+00 - val_true_negatives: 5.0000\n",
      "Epoch 74/100\n",
      "3/3 [==============================] - 0s 30ms/step - loss: 0.1072 - accuracy: 0.8929 - true_positives: 14.0000 - false_positives: 2.0000 - false_negatives: 1.0000 - true_negatives: 11.0000 - val_loss: 0.1489 - val_accuracy: 0.8333 - val_true_positives: 5.0000 - val_false_positives: 2.0000 - val_false_negatives: 0.0000e+00 - val_true_negatives: 5.0000\n",
      "Epoch 75/100\n",
      "3/3 [==============================] - 0s 30ms/step - loss: 0.1067 - accuracy: 0.8929 - true_positives: 14.0000 - false_positives: 2.0000 - false_negatives: 1.0000 - true_negatives: 11.0000 - val_loss: 0.1484 - val_accuracy: 0.8333 - val_true_positives: 5.0000 - val_false_positives: 2.0000 - val_false_negatives: 0.0000e+00 - val_true_negatives: 5.0000\n",
      "Epoch 76/100\n",
      "3/3 [==============================] - 0s 28ms/step - loss: 0.1061 - accuracy: 0.8929 - true_positives: 14.0000 - false_positives: 2.0000 - false_negatives: 1.0000 - true_negatives: 11.0000 - val_loss: 0.1481 - val_accuracy: 0.8333 - val_true_positives: 5.0000 - val_false_positives: 2.0000 - val_false_negatives: 0.0000e+00 - val_true_negatives: 5.0000\n",
      "Epoch 77/100\n",
      "3/3 [==============================] - 0s 29ms/step - loss: 0.1049 - accuracy: 0.8929 - true_positives: 14.0000 - false_positives: 2.0000 - false_negatives: 1.0000 - true_negatives: 11.0000 - val_loss: 0.1497 - val_accuracy: 0.8333 - val_true_positives: 5.0000 - val_false_positives: 2.0000 - val_false_negatives: 0.0000e+00 - val_true_negatives: 5.0000\n",
      "Epoch 78/100\n",
      "3/3 [==============================] - 0s 29ms/step - loss: 0.1051 - accuracy: 0.8929 - true_positives: 14.0000 - false_positives: 2.0000 - false_negatives: 1.0000 - true_negatives: 11.0000 - val_loss: 0.1467 - val_accuracy: 0.8333 - val_true_positives: 5.0000 - val_false_positives: 2.0000 - val_false_negatives: 0.0000e+00 - val_true_negatives: 5.0000\n",
      "Epoch 79/100\n",
      "3/3 [==============================] - 0s 28ms/step - loss: 0.1047 - accuracy: 0.8929 - true_positives: 14.0000 - false_positives: 2.0000 - false_negatives: 1.0000 - true_negatives: 11.0000 - val_loss: 0.1404 - val_accuracy: 0.8333 - val_true_positives: 5.0000 - val_false_positives: 2.0000 - val_false_negatives: 0.0000e+00 - val_true_negatives: 5.0000\n",
      "Epoch 80/100\n",
      "3/3 [==============================] - 0s 30ms/step - loss: 0.1061 - accuracy: 0.8929 - true_positives: 14.0000 - false_positives: 2.0000 - false_negatives: 1.0000 - true_negatives: 11.0000 - val_loss: 0.1440 - val_accuracy: 0.8333 - val_true_positives: 5.0000 - val_false_positives: 2.0000 - val_false_negatives: 0.0000e+00 - val_true_negatives: 5.0000\n",
      "Epoch 81/100\n",
      "3/3 [==============================] - 0s 28ms/step - loss: 0.1026 - accuracy: 0.8929 - true_positives: 14.0000 - false_positives: 2.0000 - false_negatives: 1.0000 - true_negatives: 11.0000 - val_loss: 0.1476 - val_accuracy: 0.8333 - val_true_positives: 5.0000 - val_false_positives: 2.0000 - val_false_negatives: 0.0000e+00 - val_true_negatives: 5.0000\n",
      "Epoch 82/100\n",
      "3/3 [==============================] - 0s 29ms/step - loss: 0.1035 - accuracy: 0.8929 - true_positives: 14.0000 - false_positives: 2.0000 - false_negatives: 1.0000 - true_negatives: 11.0000 - val_loss: 0.1453 - val_accuracy: 0.8333 - val_true_positives: 5.0000 - val_false_positives: 2.0000 - val_false_negatives: 0.0000e+00 - val_true_negatives: 5.0000\n",
      "Epoch 83/100\n",
      "3/3 [==============================] - 0s 31ms/step - loss: 0.1031 - accuracy: 0.8929 - true_positives: 14.0000 - false_positives: 2.0000 - false_negatives: 1.0000 - true_negatives: 11.0000 - val_loss: 0.1413 - val_accuracy: 0.8333 - val_true_positives: 5.0000 - val_false_positives: 2.0000 - val_false_negatives: 0.0000e+00 - val_true_negatives: 5.0000\n",
      "Epoch 84/100\n",
      "3/3 [==============================] - 0s 29ms/step - loss: 0.1026 - accuracy: 0.8929 - true_positives: 14.0000 - false_positives: 2.0000 - false_negatives: 1.0000 - true_negatives: 11.0000 - val_loss: 0.1466 - val_accuracy: 0.8333 - val_true_positives: 5.0000 - val_false_positives: 2.0000 - val_false_negatives: 0.0000e+00 - val_true_negatives: 5.0000\n",
      "Epoch 85/100\n",
      "3/3 [==============================] - 0s 32ms/step - loss: 0.1024 - accuracy: 0.8929 - true_positives: 14.0000 - false_positives: 2.0000 - false_negatives: 1.0000 - true_negatives: 11.0000 - val_loss: 0.1434 - val_accuracy: 0.8333 - val_true_positives: 5.0000 - val_false_positives: 2.0000 - val_false_negatives: 0.0000e+00 - val_true_negatives: 5.0000\n",
      "Epoch 86/100\n",
      "3/3 [==============================] - 0s 31ms/step - loss: 0.0999 - accuracy: 0.8929 - true_positives: 14.0000 - false_positives: 2.0000 - false_negatives: 1.0000 - true_negatives: 11.0000 - val_loss: 0.1404 - val_accuracy: 0.8333 - val_true_positives: 5.0000 - val_false_positives: 2.0000 - val_false_negatives: 0.0000e+00 - val_true_negatives: 5.0000\n",
      "Epoch 87/100\n",
      "3/3 [==============================] - 0s 31ms/step - loss: 0.1005 - accuracy: 0.8929 - true_positives: 14.0000 - false_positives: 2.0000 - false_negatives: 1.0000 - true_negatives: 11.0000 - val_loss: 0.1407 - val_accuracy: 0.8333 - val_true_positives: 5.0000 - val_false_positives: 2.0000 - val_false_negatives: 0.0000e+00 - val_true_negatives: 5.0000\n",
      "Epoch 88/100\n",
      "3/3 [==============================] - 0s 28ms/step - loss: 0.1001 - accuracy: 0.8929 - true_positives: 14.0000 - false_positives: 2.0000 - false_negatives: 1.0000 - true_negatives: 11.0000 - val_loss: 0.1419 - val_accuracy: 0.8333 - val_true_positives: 5.0000 - val_false_positives: 2.0000 - val_false_negatives: 0.0000e+00 - val_true_negatives: 5.0000\n",
      "Epoch 89/100\n"
     ]
    },
    {
     "name": "stdout",
     "output_type": "stream",
     "text": [
      "3/3 [==============================] - 0s 29ms/step - loss: 0.0997 - accuracy: 0.8929 - true_positives: 14.0000 - false_positives: 2.0000 - false_negatives: 1.0000 - true_negatives: 11.0000 - val_loss: 0.1385 - val_accuracy: 0.8333 - val_true_positives: 5.0000 - val_false_positives: 2.0000 - val_false_negatives: 0.0000e+00 - val_true_negatives: 5.0000\n",
      "Epoch 90/100\n",
      "3/3 [==============================] - 0s 29ms/step - loss: 0.0990 - accuracy: 0.8929 - true_positives: 14.0000 - false_positives: 2.0000 - false_negatives: 1.0000 - true_negatives: 11.0000 - val_loss: 0.1389 - val_accuracy: 0.8333 - val_true_positives: 5.0000 - val_false_positives: 2.0000 - val_false_negatives: 0.0000e+00 - val_true_negatives: 5.0000\n",
      "Epoch 91/100\n",
      "3/3 [==============================] - 0s 29ms/step - loss: 0.0992 - accuracy: 0.8929 - true_positives: 14.0000 - false_positives: 2.0000 - false_negatives: 1.0000 - true_negatives: 11.0000 - val_loss: 0.1399 - val_accuracy: 0.8333 - val_true_positives: 5.0000 - val_false_positives: 2.0000 - val_false_negatives: 0.0000e+00 - val_true_negatives: 5.0000\n",
      "Epoch 92/100\n",
      "3/3 [==============================] - 0s 28ms/step - loss: 0.0980 - accuracy: 0.8929 - true_positives: 14.0000 - false_positives: 2.0000 - false_negatives: 1.0000 - true_negatives: 11.0000 - val_loss: 0.1370 - val_accuracy: 0.8333 - val_true_positives: 5.0000 - val_false_positives: 2.0000 - val_false_negatives: 0.0000e+00 - val_true_negatives: 5.0000\n",
      "Epoch 93/100\n",
      "3/3 [==============================] - 0s 30ms/step - loss: 0.0991 - accuracy: 0.8929 - true_positives: 14.0000 - false_positives: 2.0000 - false_negatives: 1.0000 - true_negatives: 11.0000 - val_loss: 0.1390 - val_accuracy: 0.8333 - val_true_positives: 5.0000 - val_false_positives: 2.0000 - val_false_negatives: 0.0000e+00 - val_true_negatives: 5.0000\n",
      "Epoch 94/100\n",
      "3/3 [==============================] - 0s 30ms/step - loss: 0.0981 - accuracy: 0.8929 - true_positives: 14.0000 - false_positives: 2.0000 - false_negatives: 1.0000 - true_negatives: 11.0000 - val_loss: 0.1376 - val_accuracy: 0.8333 - val_true_positives: 5.0000 - val_false_positives: 2.0000 - val_false_negatives: 0.0000e+00 - val_true_negatives: 5.0000\n",
      "Epoch 95/100\n",
      "3/3 [==============================] - 0s 29ms/step - loss: 0.0976 - accuracy: 0.8929 - true_positives: 14.0000 - false_positives: 2.0000 - false_negatives: 1.0000 - true_negatives: 11.0000 - val_loss: 0.1371 - val_accuracy: 0.8333 - val_true_positives: 5.0000 - val_false_positives: 2.0000 - val_false_negatives: 0.0000e+00 - val_true_negatives: 5.0000\n",
      "Epoch 96/100\n",
      "3/3 [==============================] - 0s 31ms/step - loss: 0.0979 - accuracy: 0.8929 - true_positives: 14.0000 - false_positives: 2.0000 - false_negatives: 1.0000 - true_negatives: 11.0000 - val_loss: 0.1379 - val_accuracy: 0.8333 - val_true_positives: 5.0000 - val_false_positives: 2.0000 - val_false_negatives: 0.0000e+00 - val_true_negatives: 5.0000\n",
      "Epoch 97/100\n",
      "3/3 [==============================] - 0s 32ms/step - loss: 0.0966 - accuracy: 0.8929 - true_positives: 14.0000 - false_positives: 2.0000 - false_negatives: 1.0000 - true_negatives: 11.0000 - val_loss: 0.1351 - val_accuracy: 0.8333 - val_true_positives: 5.0000 - val_false_positives: 2.0000 - val_false_negatives: 0.0000e+00 - val_true_negatives: 5.0000\n",
      "Epoch 98/100\n",
      "3/3 [==============================] - 0s 32ms/step - loss: 0.0973 - accuracy: 0.8929 - true_positives: 14.0000 - false_positives: 2.0000 - false_negatives: 1.0000 - true_negatives: 11.0000 - val_loss: 0.1352 - val_accuracy: 0.8333 - val_true_positives: 5.0000 - val_false_positives: 2.0000 - val_false_negatives: 0.0000e+00 - val_true_negatives: 5.0000\n",
      "Epoch 99/100\n",
      "3/3 [==============================] - 0s 31ms/step - loss: 0.0972 - accuracy: 0.8929 - true_positives: 14.0000 - false_positives: 2.0000 - false_negatives: 1.0000 - true_negatives: 11.0000 - val_loss: 0.1357 - val_accuracy: 0.8333 - val_true_positives: 5.0000 - val_false_positives: 2.0000 - val_false_negatives: 0.0000e+00 - val_true_negatives: 5.0000\n",
      "Epoch 100/100\n",
      "3/3 [==============================] - 0s 31ms/step - loss: 0.0964 - accuracy: 0.8929 - true_positives: 14.0000 - false_positives: 2.0000 - false_negatives: 1.0000 - true_negatives: 11.0000 - val_loss: 0.1343 - val_accuracy: 0.8333 - val_true_positives: 5.0000 - val_false_positives: 2.0000 - val_false_negatives: 0.0000e+00 - val_true_negatives: 5.0000\n"
     ]
    },
    {
     "data": {
      "text/plain": [
       "<keras.callbacks.History at 0x376d33a90>"
      ]
     },
     "execution_count": 145,
     "metadata": {},
     "output_type": "execute_result"
    }
   ],
   "source": [
    "model.fit(X_train, y_train, batch_size = 10,\n",
    "          validation_data = (X_test, y_test), epochs=100)"
   ]
  },
  {
   "cell_type": "code",
   "execution_count": 146,
   "id": "9bacea6d-27c4-4efd-95f9-d38fbdba4646",
   "metadata": {},
   "outputs": [
    {
     "data": {
      "image/png": "[encoded data removed]",
      "text/plain": [
       "<Figure size 432x288 with 1 Axes>"
      ]
     },
     "metadata": {
      "needs_background": "light"
     },
     "output_type": "display_data"
    }
   ],
   "source": [
    "plt.plot(model.history.history['val_accuracy'])\n",
    "plt.plot(model.history.history['accuracy'])\n",
    "plt.grid()\n",
    "plt.show()"
   ]
  },
  {
   "cell_type": "code",
   "execution_count": 147,
   "id": "1c8b4c7a",
   "metadata": {},
   "outputs": [],
   "source": [
    "model.save('DNN_model_params.h5')"
   ]
  },
  {
   "cell_type": "markdown",
   "id": "2113c2bb",
   "metadata": {},
   "source": [
    "# Obtaining DNN performance with raw data"
   ]
  },
  {
   "cell_type": "code",
   "execution_count": 151,
   "id": "1bdc2d7f",
   "metadata": {},
   "outputs": [
    {
     "name": "stdout",
     "output_type": "stream",
     "text": [
      "Model: \"sequential_33\"\n",
      "_________________________________________________________________\n",
      " Layer (type)                Output Shape              Param #   \n",
      "=================================================================\n",
      " dense_575 (Dense)           (None, 11)                11132     \n",
      "                                                                 \n",
      " dense_576 (Dense)           (None, 12)                144       \n",
      "                                                                 \n",
      " dense_577 (Dense)           (None, 13)                169       \n",
      "                                                                 \n",
      " dense_578 (Dense)           (None, 14)                196       \n",
      "                                                                 \n",
      " dense_579 (Dense)           (None, 15)                225       \n",
      "                                                                 \n",
      " dense_580 (Dense)           (None, 14)                224       \n",
      "                                                                 \n",
      " dense_581 (Dense)           (None, 13)                195       \n",
      "                                                                 \n",
      " dense_582 (Dense)           (None, 12)                168       \n",
      "                                                                 \n",
      " dense_583 (Dense)           (None, 11)                143       \n",
      "                                                                 \n",
      " dense_584 (Dense)           (None, 10)                120       \n",
      "                                                                 \n",
      " dense_585 (Dense)           (None, 9)                 99        \n",
      "                                                                 \n",
      " dense_586 (Dense)           (None, 8)                 80        \n",
      "                                                                 \n",
      " dense_587 (Dense)           (None, 7)                 63        \n",
      "                                                                 \n",
      " dense_588 (Dense)           (None, 6)                 48        \n",
      "                                                                 \n",
      " dense_589 (Dense)           (None, 5)                 35        \n",
      "                                                                 \n",
      " dense_590 (Dense)           (None, 4)                 24        \n",
      "                                                                 \n",
      " dense_591 (Dense)           (None, 3)                 15        \n",
      "                                                                 \n",
      " dense_592 (Dense)           (None, 1)                 4         \n",
      "                                                                 \n",
      "=================================================================\n",
      "Total params: 13,084\n",
      "Trainable params: 13,084\n",
      "Non-trainable params: 0\n",
      "_________________________________________________________________\n"
     ]
    }
   ],
   "source": [
    "model = Sequential()\n",
    "model.add(Dense(11, input_shape=(1011,)))\n",
    "model.add(Dense(12, activation = 'relu'))\n",
    "model.add(Dense(13, activation = 'relu'))\n",
    "model.add(Dense(14, activation = 'relu'))\n",
    "model.add(Dense(15, activation = 'relu'))\n",
    "model.add(Dense(14, activation = 'relu'))\n",
    "model.add(Dense(13, activation = 'relu'))\n",
    "model.add(Dense(12, activation = 'relu'))\n",
    "model.add(Dense(11, activation = 'relu'))\n",
    "model.add(Dense(10, activation = 'relu'))\n",
    "model.add(Dense(9, activation = 'relu'))\n",
    "model.add(Dense(8, activation = 'relu'))\n",
    "model.add(Dense(7, activation = 'relu'))\n",
    "model.add(Dense(6, activation = 'relu'))\n",
    "model.add(Dense(5, activation = 'relu'))\n",
    "model.add(Dense(4, activation = 'relu'))\n",
    "model.add(Dense(3, activation = 'relu'))\n",
    "model.add(Dense(1, activation = 'sigmoid'))\n",
    "model.compile(optimizer = 'adam', \n",
    "              loss = 'mse', \n",
    "             metrics = ['accuracy', 'TruePositives', 'FalsePositives', 'FalseNegatives', 'TrueNegatives'])\n",
    "model.summary()"
   ]
  },
  {
   "cell_type": "code",
   "execution_count": 152,
   "id": "a2b34b72",
   "metadata": {},
   "outputs": [
    {
     "name": "stdout",
     "output_type": "stream",
     "text": [
      "Epoch 1/100\n"
     ]
    },
    {
     "name": "stderr",
     "output_type": "stream",
     "text": [
      "2022-07-25 12:02:50.845125: I tensorflow/core/grappler/optimizers/custom_graph_optimizer_registry.cc:113] Plugin optimizer for device_type GPU is enabled.\n"
     ]
    },
    {
     "name": "stdout",
     "output_type": "stream",
     "text": [
      "3/3 [==============================] - ETA: 0s - loss: 0.2500 - accuracy: 0.4643 - true_positives: 6.0000 - false_positives: 6.0000 - false_negatives: 9.0000 - true_negatives: 7.0000"
     ]
    },
    {
     "name": "stderr",
     "output_type": "stream",
     "text": [
      "2022-07-25 12:02:52.131224: I tensorflow/core/grappler/optimizers/custom_graph_optimizer_registry.cc:113] Plugin optimizer for device_type GPU is enabled.\n"
     ]
    },
    {
     "name": "stdout",
     "output_type": "stream",
     "text": [
      "3/3 [==============================] - 2s 531ms/step - loss: 0.2500 - accuracy: 0.4643 - true_positives: 6.0000 - false_positives: 6.0000 - false_negatives: 9.0000 - true_negatives: 7.0000 - val_loss: 0.2500 - val_accuracy: 0.4167 - val_true_positives: 5.0000 - val_false_positives: 7.0000 - val_false_negatives: 0.0000e+00 - val_true_negatives: 0.0000e+00\n",
      "Epoch 2/100\n",
      "3/3 [==============================] - 0s 102ms/step - loss: 0.2500 - accuracy: 0.5357 - true_positives: 15.0000 - false_positives: 13.0000 - false_negatives: 0.0000e+00 - true_negatives: 0.0000e+00 - val_loss: 0.2501 - val_accuracy: 0.4167 - val_true_positives: 5.0000 - val_false_positives: 7.0000 - val_false_negatives: 0.0000e+00 - val_true_negatives: 0.0000e+00\n",
      "Epoch 3/100\n",
      "3/3 [==============================] - 0s 65ms/step - loss: 0.2500 - accuracy: 0.5357 - true_positives: 15.0000 - false_positives: 13.0000 - false_negatives: 0.0000e+00 - true_negatives: 0.0000e+00 - val_loss: 0.2502 - val_accuracy: 0.4167 - val_true_positives: 5.0000 - val_false_positives: 7.0000 - val_false_negatives: 0.0000e+00 - val_true_negatives: 0.0000e+00\n",
      "Epoch 4/100\n",
      "3/3 [==============================] - 0s 73ms/step - loss: 0.2499 - accuracy: 0.5357 - true_positives: 15.0000 - false_positives: 13.0000 - false_negatives: 0.0000e+00 - true_negatives: 0.0000e+00 - val_loss: 0.2502 - val_accuracy: 0.4167 - val_true_positives: 5.0000 - val_false_positives: 7.0000 - val_false_negatives: 0.0000e+00 - val_true_negatives: 0.0000e+00\n",
      "Epoch 5/100\n",
      "3/3 [==============================] - 0s 70ms/step - loss: 0.2499 - accuracy: 0.5357 - true_positives: 15.0000 - false_positives: 13.0000 - false_negatives: 0.0000e+00 - true_negatives: 0.0000e+00 - val_loss: 0.2502 - val_accuracy: 0.4167 - val_true_positives: 5.0000 - val_false_positives: 7.0000 - val_false_negatives: 0.0000e+00 - val_true_negatives: 0.0000e+00\n",
      "Epoch 6/100\n",
      "3/3 [==============================] - 0s 37ms/step - loss: 0.2499 - accuracy: 0.5357 - true_positives: 15.0000 - false_positives: 13.0000 - false_negatives: 0.0000e+00 - true_negatives: 0.0000e+00 - val_loss: 0.2503 - val_accuracy: 0.4167 - val_true_positives: 5.0000 - val_false_positives: 7.0000 - val_false_negatives: 0.0000e+00 - val_true_negatives: 0.0000e+00\n",
      "Epoch 7/100\n",
      "3/3 [==============================] - 0s 82ms/step - loss: 0.2499 - accuracy: 0.5357 - true_positives: 15.0000 - false_positives: 13.0000 - false_negatives: 0.0000e+00 - true_negatives: 0.0000e+00 - val_loss: 0.2503 - val_accuracy: 0.4167 - val_true_positives: 5.0000 - val_false_positives: 7.0000 - val_false_negatives: 0.0000e+00 - val_true_negatives: 0.0000e+00\n",
      "Epoch 8/100\n",
      "3/3 [==============================] - 0s 48ms/step - loss: 0.2499 - accuracy: 0.5357 - true_positives: 15.0000 - false_positives: 13.0000 - false_negatives: 0.0000e+00 - true_negatives: 0.0000e+00 - val_loss: 0.2503 - val_accuracy: 0.4167 - val_true_positives: 5.0000 - val_false_positives: 7.0000 - val_false_negatives: 0.0000e+00 - val_true_negatives: 0.0000e+00\n",
      "Epoch 9/100\n",
      "3/3 [==============================] - 0s 36ms/step - loss: 0.2499 - accuracy: 0.5357 - true_positives: 15.0000 - false_positives: 13.0000 - false_negatives: 0.0000e+00 - true_negatives: 0.0000e+00 - val_loss: 0.2504 - val_accuracy: 0.4167 - val_true_positives: 5.0000 - val_false_positives: 7.0000 - val_false_negatives: 0.0000e+00 - val_true_negatives: 0.0000e+00\n",
      "Epoch 10/100\n",
      "3/3 [==============================] - 0s 35ms/step - loss: 0.2498 - accuracy: 0.5357 - true_positives: 15.0000 - false_positives: 13.0000 - false_negatives: 0.0000e+00 - true_negatives: 0.0000e+00 - val_loss: 0.2504 - val_accuracy: 0.4167 - val_true_positives: 5.0000 - val_false_positives: 7.0000 - val_false_negatives: 0.0000e+00 - val_true_negatives: 0.0000e+00\n",
      "Epoch 11/100\n",
      "3/3 [==============================] - 0s 49ms/step - loss: 0.2498 - accuracy: 0.5357 - true_positives: 15.0000 - false_positives: 13.0000 - false_negatives: 0.0000e+00 - true_negatives: 0.0000e+00 - val_loss: 0.2504 - val_accuracy: 0.4167 - val_true_positives: 5.0000 - val_false_positives: 7.0000 - val_false_negatives: 0.0000e+00 - val_true_negatives: 0.0000e+00\n",
      "Epoch 12/100\n",
      "3/3 [==============================] - 0s 45ms/step - loss: 0.2498 - accuracy: 0.5357 - true_positives: 15.0000 - false_positives: 13.0000 - false_negatives: 0.0000e+00 - true_negatives: 0.0000e+00 - val_loss: 0.2505 - val_accuracy: 0.4167 - val_true_positives: 5.0000 - val_false_positives: 7.0000 - val_false_negatives: 0.0000e+00 - val_true_negatives: 0.0000e+00\n",
      "Epoch 13/100\n",
      "3/3 [==============================] - 0s 42ms/step - loss: 0.2498 - accuracy: 0.5357 - true_positives: 15.0000 - false_positives: 13.0000 - false_negatives: 0.0000e+00 - true_negatives: 0.0000e+00 - val_loss: 0.2505 - val_accuracy: 0.4167 - val_true_positives: 5.0000 - val_false_positives: 7.0000 - val_false_negatives: 0.0000e+00 - val_true_negatives: 0.0000e+00\n",
      "Epoch 14/100\n",
      "3/3 [==============================] - 0s 44ms/step - loss: 0.2498 - accuracy: 0.5357 - true_positives: 15.0000 - false_positives: 13.0000 - false_negatives: 0.0000e+00 - true_negatives: 0.0000e+00 - val_loss: 0.2505 - val_accuracy: 0.4167 - val_true_positives: 5.0000 - val_false_positives: 7.0000 - val_false_negatives: 0.0000e+00 - val_true_negatives: 0.0000e+00\n",
      "Epoch 15/100\n",
      "3/3 [==============================] - 0s 44ms/step - loss: 0.2498 - accuracy: 0.5357 - true_positives: 15.0000 - false_positives: 13.0000 - false_negatives: 0.0000e+00 - true_negatives: 0.0000e+00 - val_loss: 0.2506 - val_accuracy: 0.4167 - val_true_positives: 5.0000 - val_false_positives: 7.0000 - val_false_negatives: 0.0000e+00 - val_true_negatives: 0.0000e+00\n",
      "Epoch 16/100\n",
      "3/3 [==============================] - 0s 38ms/step - loss: 0.2498 - accuracy: 0.5357 - true_positives: 15.0000 - false_positives: 13.0000 - false_negatives: 0.0000e+00 - true_negatives: 0.0000e+00 - val_loss: 0.2506 - val_accuracy: 0.4167 - val_true_positives: 5.0000 - val_false_positives: 7.0000 - val_false_negatives: 0.0000e+00 - val_true_negatives: 0.0000e+00\n",
      "Epoch 17/100\n",
      "3/3 [==============================] - 0s 31ms/step - loss: 0.2498 - accuracy: 0.5357 - true_positives: 15.0000 - false_positives: 13.0000 - false_negatives: 0.0000e+00 - true_negatives: 0.0000e+00 - val_loss: 0.2506 - val_accuracy: 0.4167 - val_true_positives: 5.0000 - val_false_positives: 7.0000 - val_false_negatives: 0.0000e+00 - val_true_negatives: 0.0000e+00\n",
      "Epoch 18/100\n",
      "3/3 [==============================] - 0s 44ms/step - loss: 0.2497 - accuracy: 0.5357 - true_positives: 15.0000 - false_positives: 13.0000 - false_negatives: 0.0000e+00 - true_negatives: 0.0000e+00 - val_loss: 0.2507 - val_accuracy: 0.4167 - val_true_positives: 5.0000 - val_false_positives: 7.0000 - val_false_negatives: 0.0000e+00 - val_true_negatives: 0.0000e+00\n",
      "Epoch 19/100\n",
      "3/3 [==============================] - 0s 39ms/step - loss: 0.2497 - accuracy: 0.5357 - true_positives: 15.0000 - false_positives: 13.0000 - false_negatives: 0.0000e+00 - true_negatives: 0.0000e+00 - val_loss: 0.2507 - val_accuracy: 0.4167 - val_true_positives: 5.0000 - val_false_positives: 7.0000 - val_false_negatives: 0.0000e+00 - val_true_negatives: 0.0000e+00\n",
      "Epoch 20/100\n",
      "3/3 [==============================] - 0s 39ms/step - loss: 0.2497 - accuracy: 0.5357 - true_positives: 15.0000 - false_positives: 13.0000 - false_negatives: 0.0000e+00 - true_negatives: 0.0000e+00 - val_loss: 0.2507 - val_accuracy: 0.4167 - val_true_positives: 5.0000 - val_false_positives: 7.0000 - val_false_negatives: 0.0000e+00 - val_true_negatives: 0.0000e+00\n",
      "Epoch 21/100\n",
      "3/3 [==============================] - 0s 35ms/step - loss: 0.2497 - accuracy: 0.5357 - true_positives: 15.0000 - false_positives: 13.0000 - false_negatives: 0.0000e+00 - true_negatives: 0.0000e+00 - val_loss: 0.2508 - val_accuracy: 0.4167 - val_true_positives: 5.0000 - val_false_positives: 7.0000 - val_false_negatives: 0.0000e+00 - val_true_negatives: 0.0000e+00\n",
      "Epoch 22/100\n",
      "3/3 [==============================] - 0s 34ms/step - loss: 0.2497 - accuracy: 0.5357 - true_positives: 15.0000 - false_positives: 13.0000 - false_negatives: 0.0000e+00 - true_negatives: 0.0000e+00 - val_loss: 0.2508 - val_accuracy: 0.4167 - val_true_positives: 5.0000 - val_false_positives: 7.0000 - val_false_negatives: 0.0000e+00 - val_true_negatives: 0.0000e+00\n"
     ]
    },
    {
     "name": "stdout",
     "output_type": "stream",
     "text": [
      "Epoch 23/100\n",
      "3/3 [==============================] - 0s 29ms/step - loss: 0.2497 - accuracy: 0.5357 - true_positives: 15.0000 - false_positives: 13.0000 - false_negatives: 0.0000e+00 - true_negatives: 0.0000e+00 - val_loss: 0.2508 - val_accuracy: 0.4167 - val_true_positives: 5.0000 - val_false_positives: 7.0000 - val_false_negatives: 0.0000e+00 - val_true_negatives: 0.0000e+00\n",
      "Epoch 24/100\n",
      "3/3 [==============================] - 0s 30ms/step - loss: 0.2497 - accuracy: 0.5357 - true_positives: 15.0000 - false_positives: 13.0000 - false_negatives: 0.0000e+00 - true_negatives: 0.0000e+00 - val_loss: 0.2509 - val_accuracy: 0.4167 - val_true_positives: 5.0000 - val_false_positives: 7.0000 - val_false_negatives: 0.0000e+00 - val_true_negatives: 0.0000e+00\n",
      "Epoch 25/100\n",
      "3/3 [==============================] - 0s 29ms/step - loss: 0.2497 - accuracy: 0.5357 - true_positives: 15.0000 - false_positives: 13.0000 - false_negatives: 0.0000e+00 - true_negatives: 0.0000e+00 - val_loss: 0.2509 - val_accuracy: 0.4167 - val_true_positives: 5.0000 - val_false_positives: 7.0000 - val_false_negatives: 0.0000e+00 - val_true_negatives: 0.0000e+00\n",
      "Epoch 26/100\n",
      "3/3 [==============================] - 0s 28ms/step - loss: 0.2496 - accuracy: 0.5357 - true_positives: 15.0000 - false_positives: 13.0000 - false_negatives: 0.0000e+00 - true_negatives: 0.0000e+00 - val_loss: 0.2509 - val_accuracy: 0.4167 - val_true_positives: 5.0000 - val_false_positives: 7.0000 - val_false_negatives: 0.0000e+00 - val_true_negatives: 0.0000e+00\n",
      "Epoch 27/100\n",
      "3/3 [==============================] - 0s 28ms/step - loss: 0.2497 - accuracy: 0.5357 - true_positives: 15.0000 - false_positives: 13.0000 - false_negatives: 0.0000e+00 - true_negatives: 0.0000e+00 - val_loss: 0.2510 - val_accuracy: 0.4167 - val_true_positives: 5.0000 - val_false_positives: 7.0000 - val_false_negatives: 0.0000e+00 - val_true_negatives: 0.0000e+00\n",
      "Epoch 28/100\n",
      "3/3 [==============================] - 0s 30ms/step - loss: 0.2496 - accuracy: 0.5357 - true_positives: 15.0000 - false_positives: 13.0000 - false_negatives: 0.0000e+00 - true_negatives: 0.0000e+00 - val_loss: 0.2510 - val_accuracy: 0.4167 - val_true_positives: 5.0000 - val_false_positives: 7.0000 - val_false_negatives: 0.0000e+00 - val_true_negatives: 0.0000e+00\n",
      "Epoch 29/100\n",
      "3/3 [==============================] - 0s 28ms/step - loss: 0.2496 - accuracy: 0.5357 - true_positives: 15.0000 - false_positives: 13.0000 - false_negatives: 0.0000e+00 - true_negatives: 0.0000e+00 - val_loss: 0.2510 - val_accuracy: 0.4167 - val_true_positives: 5.0000 - val_false_positives: 7.0000 - val_false_negatives: 0.0000e+00 - val_true_negatives: 0.0000e+00\n",
      "Epoch 30/100\n",
      "3/3 [==============================] - 0s 30ms/step - loss: 0.2496 - accuracy: 0.5357 - true_positives: 15.0000 - false_positives: 13.0000 - false_negatives: 0.0000e+00 - true_negatives: 0.0000e+00 - val_loss: 0.2510 - val_accuracy: 0.4167 - val_true_positives: 5.0000 - val_false_positives: 7.0000 - val_false_negatives: 0.0000e+00 - val_true_negatives: 0.0000e+00\n",
      "Epoch 31/100\n",
      "3/3 [==============================] - 0s 28ms/step - loss: 0.2496 - accuracy: 0.5357 - true_positives: 15.0000 - false_positives: 13.0000 - false_negatives: 0.0000e+00 - true_negatives: 0.0000e+00 - val_loss: 0.2511 - val_accuracy: 0.4167 - val_true_positives: 5.0000 - val_false_positives: 7.0000 - val_false_negatives: 0.0000e+00 - val_true_negatives: 0.0000e+00\n",
      "Epoch 32/100\n",
      "3/3 [==============================] - 0s 28ms/step - loss: 0.2496 - accuracy: 0.5357 - true_positives: 15.0000 - false_positives: 13.0000 - false_negatives: 0.0000e+00 - true_negatives: 0.0000e+00 - val_loss: 0.2511 - val_accuracy: 0.4167 - val_true_positives: 5.0000 - val_false_positives: 7.0000 - val_false_negatives: 0.0000e+00 - val_true_negatives: 0.0000e+00\n",
      "Epoch 33/100\n",
      "3/3 [==============================] - 0s 29ms/step - loss: 0.2496 - accuracy: 0.5357 - true_positives: 15.0000 - false_positives: 13.0000 - false_negatives: 0.0000e+00 - true_negatives: 0.0000e+00 - val_loss: 0.2511 - val_accuracy: 0.4167 - val_true_positives: 5.0000 - val_false_positives: 7.0000 - val_false_negatives: 0.0000e+00 - val_true_negatives: 0.0000e+00\n",
      "Epoch 34/100\n",
      "3/3 [==============================] - 0s 28ms/step - loss: 0.2496 - accuracy: 0.5357 - true_positives: 15.0000 - false_positives: 13.0000 - false_negatives: 0.0000e+00 - true_negatives: 0.0000e+00 - val_loss: 0.2512 - val_accuracy: 0.4167 - val_true_positives: 5.0000 - val_false_positives: 7.0000 - val_false_negatives: 0.0000e+00 - val_true_negatives: 0.0000e+00\n",
      "Epoch 35/100\n",
      "3/3 [==============================] - 0s 29ms/step - loss: 0.2496 - accuracy: 0.5357 - true_positives: 15.0000 - false_positives: 13.0000 - false_negatives: 0.0000e+00 - true_negatives: 0.0000e+00 - val_loss: 0.2512 - val_accuracy: 0.4167 - val_true_positives: 5.0000 - val_false_positives: 7.0000 - val_false_negatives: 0.0000e+00 - val_true_negatives: 0.0000e+00\n",
      "Epoch 36/100\n",
      "3/3 [==============================] - 0s 28ms/step - loss: 0.2496 - accuracy: 0.5357 - true_positives: 15.0000 - false_positives: 13.0000 - false_negatives: 0.0000e+00 - true_negatives: 0.0000e+00 - val_loss: 0.2513 - val_accuracy: 0.4167 - val_true_positives: 5.0000 - val_false_positives: 7.0000 - val_false_negatives: 0.0000e+00 - val_true_negatives: 0.0000e+00\n",
      "Epoch 37/100\n",
      "3/3 [==============================] - 0s 31ms/step - loss: 0.2495 - accuracy: 0.5357 - true_positives: 15.0000 - false_positives: 13.0000 - false_negatives: 0.0000e+00 - true_negatives: 0.0000e+00 - val_loss: 0.2513 - val_accuracy: 0.4167 - val_true_positives: 5.0000 - val_false_positives: 7.0000 - val_false_negatives: 0.0000e+00 - val_true_negatives: 0.0000e+00\n",
      "Epoch 38/100\n",
      "3/3 [==============================] - 0s 29ms/step - loss: 0.2495 - accuracy: 0.5357 - true_positives: 15.0000 - false_positives: 13.0000 - false_negatives: 0.0000e+00 - true_negatives: 0.0000e+00 - val_loss: 0.2513 - val_accuracy: 0.4167 - val_true_positives: 5.0000 - val_false_positives: 7.0000 - val_false_negatives: 0.0000e+00 - val_true_negatives: 0.0000e+00\n",
      "Epoch 39/100\n",
      "3/3 [==============================] - 0s 29ms/step - loss: 0.2495 - accuracy: 0.5357 - true_positives: 15.0000 - false_positives: 13.0000 - false_negatives: 0.0000e+00 - true_negatives: 0.0000e+00 - val_loss: 0.2513 - val_accuracy: 0.4167 - val_true_positives: 5.0000 - val_false_positives: 7.0000 - val_false_negatives: 0.0000e+00 - val_true_negatives: 0.0000e+00\n",
      "Epoch 40/100\n",
      "3/3 [==============================] - 0s 29ms/step - loss: 0.2495 - accuracy: 0.5357 - true_positives: 15.0000 - false_positives: 13.0000 - false_negatives: 0.0000e+00 - true_negatives: 0.0000e+00 - val_loss: 0.2514 - val_accuracy: 0.4167 - val_true_positives: 5.0000 - val_false_positives: 7.0000 - val_false_negatives: 0.0000e+00 - val_true_negatives: 0.0000e+00\n",
      "Epoch 41/100\n",
      "3/3 [==============================] - 0s 30ms/step - loss: 0.2495 - accuracy: 0.5357 - true_positives: 15.0000 - false_positives: 13.0000 - false_negatives: 0.0000e+00 - true_negatives: 0.0000e+00 - val_loss: 0.2514 - val_accuracy: 0.4167 - val_true_positives: 5.0000 - val_false_positives: 7.0000 - val_false_negatives: 0.0000e+00 - val_true_negatives: 0.0000e+00\n",
      "Epoch 42/100\n",
      "3/3 [==============================] - 0s 29ms/step - loss: 0.2495 - accuracy: 0.5357 - true_positives: 15.0000 - false_positives: 13.0000 - false_negatives: 0.0000e+00 - true_negatives: 0.0000e+00 - val_loss: 0.2514 - val_accuracy: 0.4167 - val_true_positives: 5.0000 - val_false_positives: 7.0000 - val_false_negatives: 0.0000e+00 - val_true_negatives: 0.0000e+00\n",
      "Epoch 43/100\n",
      "3/3 [==============================] - 0s 28ms/step - loss: 0.2495 - accuracy: 0.5357 - true_positives: 15.0000 - false_positives: 13.0000 - false_negatives: 0.0000e+00 - true_negatives: 0.0000e+00 - val_loss: 0.2514 - val_accuracy: 0.4167 - val_true_positives: 5.0000 - val_false_positives: 7.0000 - val_false_negatives: 0.0000e+00 - val_true_negatives: 0.0000e+00\n",
      "Epoch 44/100\n",
      "3/3 [==============================] - 0s 29ms/step - loss: 0.2495 - accuracy: 0.5357 - true_positives: 15.0000 - false_positives: 13.0000 - false_negatives: 0.0000e+00 - true_negatives: 0.0000e+00 - val_loss: 0.2515 - val_accuracy: 0.4167 - val_true_positives: 5.0000 - val_false_positives: 7.0000 - val_false_negatives: 0.0000e+00 - val_true_negatives: 0.0000e+00\n"
     ]
    },
    {
     "name": "stdout",
     "output_type": "stream",
     "text": [
      "Epoch 45/100\n",
      "3/3 [==============================] - 0s 29ms/step - loss: 0.2495 - accuracy: 0.5357 - true_positives: 15.0000 - false_positives: 13.0000 - false_negatives: 0.0000e+00 - true_negatives: 0.0000e+00 - val_loss: 0.2515 - val_accuracy: 0.4167 - val_true_positives: 5.0000 - val_false_positives: 7.0000 - val_false_negatives: 0.0000e+00 - val_true_negatives: 0.0000e+00\n",
      "Epoch 46/100\n",
      "3/3 [==============================] - 0s 29ms/step - loss: 0.2495 - accuracy: 0.5357 - true_positives: 15.0000 - false_positives: 13.0000 - false_negatives: 0.0000e+00 - true_negatives: 0.0000e+00 - val_loss: 0.2515 - val_accuracy: 0.4167 - val_true_positives: 5.0000 - val_false_positives: 7.0000 - val_false_negatives: 0.0000e+00 - val_true_negatives: 0.0000e+00\n",
      "Epoch 47/100\n",
      "3/3 [==============================] - 0s 28ms/step - loss: 0.2494 - accuracy: 0.5357 - true_positives: 15.0000 - false_positives: 13.0000 - false_negatives: 0.0000e+00 - true_negatives: 0.0000e+00 - val_loss: 0.2516 - val_accuracy: 0.4167 - val_true_positives: 5.0000 - val_false_positives: 7.0000 - val_false_negatives: 0.0000e+00 - val_true_negatives: 0.0000e+00\n",
      "Epoch 48/100\n",
      "3/3 [==============================] - 0s 30ms/step - loss: 0.2494 - accuracy: 0.5357 - true_positives: 15.0000 - false_positives: 13.0000 - false_negatives: 0.0000e+00 - true_negatives: 0.0000e+00 - val_loss: 0.2516 - val_accuracy: 0.4167 - val_true_positives: 5.0000 - val_false_positives: 7.0000 - val_false_negatives: 0.0000e+00 - val_true_negatives: 0.0000e+00\n",
      "Epoch 49/100\n",
      "3/3 [==============================] - 0s 30ms/step - loss: 0.2494 - accuracy: 0.5357 - true_positives: 15.0000 - false_positives: 13.0000 - false_negatives: 0.0000e+00 - true_negatives: 0.0000e+00 - val_loss: 0.2516 - val_accuracy: 0.4167 - val_true_positives: 5.0000 - val_false_positives: 7.0000 - val_false_negatives: 0.0000e+00 - val_true_negatives: 0.0000e+00\n",
      "Epoch 50/100\n",
      "3/3 [==============================] - 0s 29ms/step - loss: 0.2494 - accuracy: 0.5357 - true_positives: 15.0000 - false_positives: 13.0000 - false_negatives: 0.0000e+00 - true_negatives: 0.0000e+00 - val_loss: 0.2516 - val_accuracy: 0.4167 - val_true_positives: 5.0000 - val_false_positives: 7.0000 - val_false_negatives: 0.0000e+00 - val_true_negatives: 0.0000e+00\n",
      "Epoch 51/100\n",
      "3/3 [==============================] - 0s 31ms/step - loss: 0.2494 - accuracy: 0.5357 - true_positives: 15.0000 - false_positives: 13.0000 - false_negatives: 0.0000e+00 - true_negatives: 0.0000e+00 - val_loss: 0.2517 - val_accuracy: 0.4167 - val_true_positives: 5.0000 - val_false_positives: 7.0000 - val_false_negatives: 0.0000e+00 - val_true_negatives: 0.0000e+00\n",
      "Epoch 52/100\n",
      "3/3 [==============================] - 0s 29ms/step - loss: 0.2494 - accuracy: 0.5357 - true_positives: 15.0000 - false_positives: 13.0000 - false_negatives: 0.0000e+00 - true_negatives: 0.0000e+00 - val_loss: 0.2517 - val_accuracy: 0.4167 - val_true_positives: 5.0000 - val_false_positives: 7.0000 - val_false_negatives: 0.0000e+00 - val_true_negatives: 0.0000e+00\n",
      "Epoch 53/100\n",
      "3/3 [==============================] - 0s 28ms/step - loss: 0.2494 - accuracy: 0.5357 - true_positives: 15.0000 - false_positives: 13.0000 - false_negatives: 0.0000e+00 - true_negatives: 0.0000e+00 - val_loss: 0.2517 - val_accuracy: 0.4167 - val_true_positives: 5.0000 - val_false_positives: 7.0000 - val_false_negatives: 0.0000e+00 - val_true_negatives: 0.0000e+00\n",
      "Epoch 54/100\n",
      "3/3 [==============================] - 0s 30ms/step - loss: 0.2494 - accuracy: 0.5357 - true_positives: 15.0000 - false_positives: 13.0000 - false_negatives: 0.0000e+00 - true_negatives: 0.0000e+00 - val_loss: 0.2518 - val_accuracy: 0.4167 - val_true_positives: 5.0000 - val_false_positives: 7.0000 - val_false_negatives: 0.0000e+00 - val_true_negatives: 0.0000e+00\n",
      "Epoch 55/100\n",
      "3/3 [==============================] - 0s 29ms/step - loss: 0.2494 - accuracy: 0.5357 - true_positives: 15.0000 - false_positives: 13.0000 - false_negatives: 0.0000e+00 - true_negatives: 0.0000e+00 - val_loss: 0.2518 - val_accuracy: 0.4167 - val_true_positives: 5.0000 - val_false_positives: 7.0000 - val_false_negatives: 0.0000e+00 - val_true_negatives: 0.0000e+00\n",
      "Epoch 56/100\n",
      "3/3 [==============================] - 0s 31ms/step - loss: 0.2494 - accuracy: 0.5357 - true_positives: 15.0000 - false_positives: 13.0000 - false_negatives: 0.0000e+00 - true_negatives: 0.0000e+00 - val_loss: 0.2518 - val_accuracy: 0.4167 - val_true_positives: 5.0000 - val_false_positives: 7.0000 - val_false_negatives: 0.0000e+00 - val_true_negatives: 0.0000e+00\n",
      "Epoch 57/100\n",
      "3/3 [==============================] - 0s 32ms/step - loss: 0.2494 - accuracy: 0.5357 - true_positives: 15.0000 - false_positives: 13.0000 - false_negatives: 0.0000e+00 - true_negatives: 0.0000e+00 - val_loss: 0.2519 - val_accuracy: 0.4167 - val_true_positives: 5.0000 - val_false_positives: 7.0000 - val_false_negatives: 0.0000e+00 - val_true_negatives: 0.0000e+00\n",
      "Epoch 58/100\n",
      "3/3 [==============================] - 0s 29ms/step - loss: 0.2494 - accuracy: 0.5357 - true_positives: 15.0000 - false_positives: 13.0000 - false_negatives: 0.0000e+00 - true_negatives: 0.0000e+00 - val_loss: 0.2519 - val_accuracy: 0.4167 - val_true_positives: 5.0000 - val_false_positives: 7.0000 - val_false_negatives: 0.0000e+00 - val_true_negatives: 0.0000e+00\n",
      "Epoch 59/100\n",
      "3/3 [==============================] - 0s 29ms/step - loss: 0.2494 - accuracy: 0.5357 - true_positives: 15.0000 - false_positives: 13.0000 - false_negatives: 0.0000e+00 - true_negatives: 0.0000e+00 - val_loss: 0.2519 - val_accuracy: 0.4167 - val_true_positives: 5.0000 - val_false_positives: 7.0000 - val_false_negatives: 0.0000e+00 - val_true_negatives: 0.0000e+00\n",
      "Epoch 60/100\n",
      "3/3 [==============================] - 0s 29ms/step - loss: 0.2494 - accuracy: 0.5357 - true_positives: 15.0000 - false_positives: 13.0000 - false_negatives: 0.0000e+00 - true_negatives: 0.0000e+00 - val_loss: 0.2520 - val_accuracy: 0.4167 - val_true_positives: 5.0000 - val_false_positives: 7.0000 - val_false_negatives: 0.0000e+00 - val_true_negatives: 0.0000e+00\n",
      "Epoch 61/100\n",
      "3/3 [==============================] - 0s 29ms/step - loss: 0.2493 - accuracy: 0.5357 - true_positives: 15.0000 - false_positives: 13.0000 - false_negatives: 0.0000e+00 - true_negatives: 0.0000e+00 - val_loss: 0.2520 - val_accuracy: 0.4167 - val_true_positives: 5.0000 - val_false_positives: 7.0000 - val_false_negatives: 0.0000e+00 - val_true_negatives: 0.0000e+00\n",
      "Epoch 62/100\n",
      "3/3 [==============================] - 0s 29ms/step - loss: 0.2493 - accuracy: 0.5357 - true_positives: 15.0000 - false_positives: 13.0000 - false_negatives: 0.0000e+00 - true_negatives: 0.0000e+00 - val_loss: 0.2520 - val_accuracy: 0.4167 - val_true_positives: 5.0000 - val_false_positives: 7.0000 - val_false_negatives: 0.0000e+00 - val_true_negatives: 0.0000e+00\n",
      "Epoch 63/100\n",
      "3/3 [==============================] - 0s 28ms/step - loss: 0.2493 - accuracy: 0.5357 - true_positives: 15.0000 - false_positives: 13.0000 - false_negatives: 0.0000e+00 - true_negatives: 0.0000e+00 - val_loss: 0.2520 - val_accuracy: 0.4167 - val_true_positives: 5.0000 - val_false_positives: 7.0000 - val_false_negatives: 0.0000e+00 - val_true_negatives: 0.0000e+00\n",
      "Epoch 64/100\n",
      "3/3 [==============================] - 0s 29ms/step - loss: 0.2493 - accuracy: 0.5357 - true_positives: 15.0000 - false_positives: 13.0000 - false_negatives: 0.0000e+00 - true_negatives: 0.0000e+00 - val_loss: 0.2521 - val_accuracy: 0.4167 - val_true_positives: 5.0000 - val_false_positives: 7.0000 - val_false_negatives: 0.0000e+00 - val_true_negatives: 0.0000e+00\n",
      "Epoch 65/100\n",
      "3/3 [==============================] - 0s 28ms/step - loss: 0.2493 - accuracy: 0.5357 - true_positives: 15.0000 - false_positives: 13.0000 - false_negatives: 0.0000e+00 - true_negatives: 0.0000e+00 - val_loss: 0.2521 - val_accuracy: 0.4167 - val_true_positives: 5.0000 - val_false_positives: 7.0000 - val_false_negatives: 0.0000e+00 - val_true_negatives: 0.0000e+00\n",
      "Epoch 66/100\n",
      "3/3 [==============================] - 0s 29ms/step - loss: 0.2493 - accuracy: 0.5357 - true_positives: 15.0000 - false_positives: 13.0000 - false_negatives: 0.0000e+00 - true_negatives: 0.0000e+00 - val_loss: 0.2521 - val_accuracy: 0.4167 - val_true_positives: 5.0000 - val_false_positives: 7.0000 - val_false_negatives: 0.0000e+00 - val_true_negatives: 0.0000e+00\n"
     ]
    },
    {
     "name": "stdout",
     "output_type": "stream",
     "text": [
      "Epoch 67/100\n",
      "3/3 [==============================] - 0s 29ms/step - loss: 0.2493 - accuracy: 0.5357 - true_positives: 15.0000 - false_positives: 13.0000 - false_negatives: 0.0000e+00 - true_negatives: 0.0000e+00 - val_loss: 0.2521 - val_accuracy: 0.4167 - val_true_positives: 5.0000 - val_false_positives: 7.0000 - val_false_negatives: 0.0000e+00 - val_true_negatives: 0.0000e+00\n",
      "Epoch 68/100\n",
      "3/3 [==============================] - 0s 29ms/step - loss: 0.2493 - accuracy: 0.5357 - true_positives: 15.0000 - false_positives: 13.0000 - false_negatives: 0.0000e+00 - true_negatives: 0.0000e+00 - val_loss: 0.2521 - val_accuracy: 0.4167 - val_true_positives: 5.0000 - val_false_positives: 7.0000 - val_false_negatives: 0.0000e+00 - val_true_negatives: 0.0000e+00\n",
      "Epoch 69/100\n",
      "3/3 [==============================] - 0s 29ms/step - loss: 0.2493 - accuracy: 0.5357 - true_positives: 15.0000 - false_positives: 13.0000 - false_negatives: 0.0000e+00 - true_negatives: 0.0000e+00 - val_loss: 0.2522 - val_accuracy: 0.4167 - val_true_positives: 5.0000 - val_false_positives: 7.0000 - val_false_negatives: 0.0000e+00 - val_true_negatives: 0.0000e+00\n",
      "Epoch 70/100\n",
      "3/3 [==============================] - 0s 29ms/step - loss: 0.2493 - accuracy: 0.5357 - true_positives: 15.0000 - false_positives: 13.0000 - false_negatives: 0.0000e+00 - true_negatives: 0.0000e+00 - val_loss: 0.2522 - val_accuracy: 0.4167 - val_true_positives: 5.0000 - val_false_positives: 7.0000 - val_false_negatives: 0.0000e+00 - val_true_negatives: 0.0000e+00\n",
      "Epoch 71/100\n",
      "3/3 [==============================] - 0s 30ms/step - loss: 0.2493 - accuracy: 0.5357 - true_positives: 15.0000 - false_positives: 13.0000 - false_negatives: 0.0000e+00 - true_negatives: 0.0000e+00 - val_loss: 0.2522 - val_accuracy: 0.4167 - val_true_positives: 5.0000 - val_false_positives: 7.0000 - val_false_negatives: 0.0000e+00 - val_true_negatives: 0.0000e+00\n",
      "Epoch 72/100\n",
      "3/3 [==============================] - 0s 29ms/step - loss: 0.2493 - accuracy: 0.5357 - true_positives: 15.0000 - false_positives: 13.0000 - false_negatives: 0.0000e+00 - true_negatives: 0.0000e+00 - val_loss: 0.2522 - val_accuracy: 0.4167 - val_true_positives: 5.0000 - val_false_positives: 7.0000 - val_false_negatives: 0.0000e+00 - val_true_negatives: 0.0000e+00\n",
      "Epoch 73/100\n",
      "3/3 [==============================] - 0s 29ms/step - loss: 0.2493 - accuracy: 0.5357 - true_positives: 15.0000 - false_positives: 13.0000 - false_negatives: 0.0000e+00 - true_negatives: 0.0000e+00 - val_loss: 0.2522 - val_accuracy: 0.4167 - val_true_positives: 5.0000 - val_false_positives: 7.0000 - val_false_negatives: 0.0000e+00 - val_true_negatives: 0.0000e+00\n",
      "Epoch 74/100\n",
      "3/3 [==============================] - 0s 30ms/step - loss: 0.2493 - accuracy: 0.5357 - true_positives: 15.0000 - false_positives: 13.0000 - false_negatives: 0.0000e+00 - true_negatives: 0.0000e+00 - val_loss: 0.2523 - val_accuracy: 0.4167 - val_true_positives: 5.0000 - val_false_positives: 7.0000 - val_false_negatives: 0.0000e+00 - val_true_negatives: 0.0000e+00\n",
      "Epoch 75/100\n",
      "3/3 [==============================] - 0s 28ms/step - loss: 0.2493 - accuracy: 0.5357 - true_positives: 15.0000 - false_positives: 13.0000 - false_negatives: 0.0000e+00 - true_negatives: 0.0000e+00 - val_loss: 0.2523 - val_accuracy: 0.4167 - val_true_positives: 5.0000 - val_false_positives: 7.0000 - val_false_negatives: 0.0000e+00 - val_true_negatives: 0.0000e+00\n",
      "Epoch 76/100\n",
      "3/3 [==============================] - 0s 29ms/step - loss: 0.2493 - accuracy: 0.5357 - true_positives: 15.0000 - false_positives: 13.0000 - false_negatives: 0.0000e+00 - true_negatives: 0.0000e+00 - val_loss: 0.2523 - val_accuracy: 0.4167 - val_true_positives: 5.0000 - val_false_positives: 7.0000 - val_false_negatives: 0.0000e+00 - val_true_negatives: 0.0000e+00\n",
      "Epoch 77/100\n",
      "3/3 [==============================] - 0s 28ms/step - loss: 0.2492 - accuracy: 0.5357 - true_positives: 15.0000 - false_positives: 13.0000 - false_negatives: 0.0000e+00 - true_negatives: 0.0000e+00 - val_loss: 0.2523 - val_accuracy: 0.4167 - val_true_positives: 5.0000 - val_false_positives: 7.0000 - val_false_negatives: 0.0000e+00 - val_true_negatives: 0.0000e+00\n",
      "Epoch 78/100\n",
      "3/3 [==============================] - 0s 29ms/step - loss: 0.2492 - accuracy: 0.5357 - true_positives: 15.0000 - false_positives: 13.0000 - false_negatives: 0.0000e+00 - true_negatives: 0.0000e+00 - val_loss: 0.2524 - val_accuracy: 0.4167 - val_true_positives: 5.0000 - val_false_positives: 7.0000 - val_false_negatives: 0.0000e+00 - val_true_negatives: 0.0000e+00\n",
      "Epoch 79/100\n",
      "3/3 [==============================] - 0s 29ms/step - loss: 0.2492 - accuracy: 0.5357 - true_positives: 15.0000 - false_positives: 13.0000 - false_negatives: 0.0000e+00 - true_negatives: 0.0000e+00 - val_loss: 0.2524 - val_accuracy: 0.4167 - val_true_positives: 5.0000 - val_false_positives: 7.0000 - val_false_negatives: 0.0000e+00 - val_true_negatives: 0.0000e+00\n",
      "Epoch 80/100\n",
      "3/3 [==============================] - 0s 31ms/step - loss: 0.2492 - accuracy: 0.5357 - true_positives: 15.0000 - false_positives: 13.0000 - false_negatives: 0.0000e+00 - true_negatives: 0.0000e+00 - val_loss: 0.2524 - val_accuracy: 0.4167 - val_true_positives: 5.0000 - val_false_positives: 7.0000 - val_false_negatives: 0.0000e+00 - val_true_negatives: 0.0000e+00\n",
      "Epoch 81/100\n",
      "3/3 [==============================] - 0s 29ms/step - loss: 0.2492 - accuracy: 0.5357 - true_positives: 15.0000 - false_positives: 13.0000 - false_negatives: 0.0000e+00 - true_negatives: 0.0000e+00 - val_loss: 0.2525 - val_accuracy: 0.4167 - val_true_positives: 5.0000 - val_false_positives: 7.0000 - val_false_negatives: 0.0000e+00 - val_true_negatives: 0.0000e+00\n",
      "Epoch 82/100\n",
      "3/3 [==============================] - 0s 28ms/step - loss: 0.2492 - accuracy: 0.5357 - true_positives: 15.0000 - false_positives: 13.0000 - false_negatives: 0.0000e+00 - true_negatives: 0.0000e+00 - val_loss: 0.2525 - val_accuracy: 0.4167 - val_true_positives: 5.0000 - val_false_positives: 7.0000 - val_false_negatives: 0.0000e+00 - val_true_negatives: 0.0000e+00\n",
      "Epoch 83/100\n",
      "3/3 [==============================] - 0s 29ms/step - loss: 0.2492 - accuracy: 0.5357 - true_positives: 15.0000 - false_positives: 13.0000 - false_negatives: 0.0000e+00 - true_negatives: 0.0000e+00 - val_loss: 0.2525 - val_accuracy: 0.4167 - val_true_positives: 5.0000 - val_false_positives: 7.0000 - val_false_negatives: 0.0000e+00 - val_true_negatives: 0.0000e+00\n",
      "Epoch 84/100\n",
      "3/3 [==============================] - 0s 29ms/step - loss: 0.2492 - accuracy: 0.5357 - true_positives: 15.0000 - false_positives: 13.0000 - false_negatives: 0.0000e+00 - true_negatives: 0.0000e+00 - val_loss: 0.2525 - val_accuracy: 0.4167 - val_true_positives: 5.0000 - val_false_positives: 7.0000 - val_false_negatives: 0.0000e+00 - val_true_negatives: 0.0000e+00\n",
      "Epoch 85/100\n",
      "3/3 [==============================] - 0s 29ms/step - loss: 0.2492 - accuracy: 0.5357 - true_positives: 15.0000 - false_positives: 13.0000 - false_negatives: 0.0000e+00 - true_negatives: 0.0000e+00 - val_loss: 0.2526 - val_accuracy: 0.4167 - val_true_positives: 5.0000 - val_false_positives: 7.0000 - val_false_negatives: 0.0000e+00 - val_true_negatives: 0.0000e+00\n",
      "Epoch 86/100\n",
      "3/3 [==============================] - 0s 29ms/step - loss: 0.2492 - accuracy: 0.5357 - true_positives: 15.0000 - false_positives: 13.0000 - false_negatives: 0.0000e+00 - true_negatives: 0.0000e+00 - val_loss: 0.2526 - val_accuracy: 0.4167 - val_true_positives: 5.0000 - val_false_positives: 7.0000 - val_false_negatives: 0.0000e+00 - val_true_negatives: 0.0000e+00\n",
      "Epoch 87/100\n",
      "3/3 [==============================] - 0s 30ms/step - loss: 0.2492 - accuracy: 0.5357 - true_positives: 15.0000 - false_positives: 13.0000 - false_negatives: 0.0000e+00 - true_negatives: 0.0000e+00 - val_loss: 0.2526 - val_accuracy: 0.4167 - val_true_positives: 5.0000 - val_false_positives: 7.0000 - val_false_negatives: 0.0000e+00 - val_true_negatives: 0.0000e+00\n",
      "Epoch 88/100\n",
      "3/3 [==============================] - 0s 29ms/step - loss: 0.2492 - accuracy: 0.5357 - true_positives: 15.0000 - false_positives: 13.0000 - false_negatives: 0.0000e+00 - true_negatives: 0.0000e+00 - val_loss: 0.2526 - val_accuracy: 0.4167 - val_true_positives: 5.0000 - val_false_positives: 7.0000 - val_false_negatives: 0.0000e+00 - val_true_negatives: 0.0000e+00\n"
     ]
    },
    {
     "name": "stdout",
     "output_type": "stream",
     "text": [
      "Epoch 89/100\n",
      "3/3 [==============================] - 0s 28ms/step - loss: 0.2492 - accuracy: 0.5357 - true_positives: 15.0000 - false_positives: 13.0000 - false_negatives: 0.0000e+00 - true_negatives: 0.0000e+00 - val_loss: 0.2526 - val_accuracy: 0.4167 - val_true_positives: 5.0000 - val_false_positives: 7.0000 - val_false_negatives: 0.0000e+00 - val_true_negatives: 0.0000e+00\n",
      "Epoch 90/100\n",
      "3/3 [==============================] - 0s 29ms/step - loss: 0.2492 - accuracy: 0.5357 - true_positives: 15.0000 - false_positives: 13.0000 - false_negatives: 0.0000e+00 - true_negatives: 0.0000e+00 - val_loss: 0.2526 - val_accuracy: 0.4167 - val_true_positives: 5.0000 - val_false_positives: 7.0000 - val_false_negatives: 0.0000e+00 - val_true_negatives: 0.0000e+00\n",
      "Epoch 91/100\n",
      "3/3 [==============================] - 0s 29ms/step - loss: 0.2492 - accuracy: 0.5357 - true_positives: 15.0000 - false_positives: 13.0000 - false_negatives: 0.0000e+00 - true_negatives: 0.0000e+00 - val_loss: 0.2527 - val_accuracy: 0.4167 - val_true_positives: 5.0000 - val_false_positives: 7.0000 - val_false_negatives: 0.0000e+00 - val_true_negatives: 0.0000e+00\n",
      "Epoch 92/100\n",
      "3/3 [==============================] - 0s 29ms/step - loss: 0.2492 - accuracy: 0.5357 - true_positives: 15.0000 - false_positives: 13.0000 - false_negatives: 0.0000e+00 - true_negatives: 0.0000e+00 - val_loss: 0.2527 - val_accuracy: 0.4167 - val_true_positives: 5.0000 - val_false_positives: 7.0000 - val_false_negatives: 0.0000e+00 - val_true_negatives: 0.0000e+00\n",
      "Epoch 93/100\n",
      "3/3 [==============================] - 0s 31ms/step - loss: 0.2492 - accuracy: 0.5357 - true_positives: 15.0000 - false_positives: 13.0000 - false_negatives: 0.0000e+00 - true_negatives: 0.0000e+00 - val_loss: 0.2527 - val_accuracy: 0.4167 - val_true_positives: 5.0000 - val_false_positives: 7.0000 - val_false_negatives: 0.0000e+00 - val_true_negatives: 0.0000e+00\n",
      "Epoch 94/100\n",
      "3/3 [==============================] - 0s 29ms/step - loss: 0.2492 - accuracy: 0.5357 - true_positives: 15.0000 - false_positives: 13.0000 - false_negatives: 0.0000e+00 - true_negatives: 0.0000e+00 - val_loss: 0.2527 - val_accuracy: 0.4167 - val_true_positives: 5.0000 - val_false_positives: 7.0000 - val_false_negatives: 0.0000e+00 - val_true_negatives: 0.0000e+00\n",
      "Epoch 95/100\n",
      "3/3 [==============================] - 0s 31ms/step - loss: 0.2492 - accuracy: 0.5357 - true_positives: 15.0000 - false_positives: 13.0000 - false_negatives: 0.0000e+00 - true_negatives: 0.0000e+00 - val_loss: 0.2527 - val_accuracy: 0.4167 - val_true_positives: 5.0000 - val_false_positives: 7.0000 - val_false_negatives: 0.0000e+00 - val_true_negatives: 0.0000e+00\n",
      "Epoch 96/100\n",
      "3/3 [==============================] - 0s 29ms/step - loss: 0.2492 - accuracy: 0.5357 - true_positives: 15.0000 - false_positives: 13.0000 - false_negatives: 0.0000e+00 - true_negatives: 0.0000e+00 - val_loss: 0.2528 - val_accuracy: 0.4167 - val_true_positives: 5.0000 - val_false_positives: 7.0000 - val_false_negatives: 0.0000e+00 - val_true_negatives: 0.0000e+00\n",
      "Epoch 97/100\n",
      "3/3 [==============================] - 0s 29ms/step - loss: 0.2491 - accuracy: 0.5357 - true_positives: 15.0000 - false_positives: 13.0000 - false_negatives: 0.0000e+00 - true_negatives: 0.0000e+00 - val_loss: 0.2528 - val_accuracy: 0.4167 - val_true_positives: 5.0000 - val_false_positives: 7.0000 - val_false_negatives: 0.0000e+00 - val_true_negatives: 0.0000e+00\n",
      "Epoch 98/100\n",
      "3/3 [==============================] - 0s 29ms/step - loss: 0.2491 - accuracy: 0.5357 - true_positives: 15.0000 - false_positives: 13.0000 - false_negatives: 0.0000e+00 - true_negatives: 0.0000e+00 - val_loss: 0.2528 - val_accuracy: 0.4167 - val_true_positives: 5.0000 - val_false_positives: 7.0000 - val_false_negatives: 0.0000e+00 - val_true_negatives: 0.0000e+00\n",
      "Epoch 99/100\n",
      "3/3 [==============================] - 0s 29ms/step - loss: 0.2491 - accuracy: 0.5357 - true_positives: 15.0000 - false_positives: 13.0000 - false_negatives: 0.0000e+00 - true_negatives: 0.0000e+00 - val_loss: 0.2528 - val_accuracy: 0.4167 - val_true_positives: 5.0000 - val_false_positives: 7.0000 - val_false_negatives: 0.0000e+00 - val_true_negatives: 0.0000e+00\n",
      "Epoch 100/100\n",
      "3/3 [==============================] - 0s 28ms/step - loss: 0.2491 - accuracy: 0.5357 - true_positives: 15.0000 - false_positives: 13.0000 - false_negatives: 0.0000e+00 - true_negatives: 0.0000e+00 - val_loss: 0.2528 - val_accuracy: 0.4167 - val_true_positives: 5.0000 - val_false_positives: 7.0000 - val_false_negatives: 0.0000e+00 - val_true_negatives: 0.0000e+00\n"
     ]
    },
    {
     "data": {
      "text/plain": [
       "<keras.callbacks.History at 0x3ab4ae460>"
      ]
     },
     "execution_count": 152,
     "metadata": {},
     "output_type": "execute_result"
    }
   ],
   "source": [
    "model.fit(naive_X_train, naive_y_train, batch_size = 10,\n",
    "          validation_data = (naive_X_test, naive_y_test), epochs=100)"
   ]
  },
  {
   "cell_type": "code",
   "execution_count": 153,
   "id": "6076f5eb",
   "metadata": {},
   "outputs": [
    {
     "data": {
      "image/png": "[encoded data removed]",
      "text/plain": [
       "<Figure size 432x288 with 1 Axes>"
      ]
     },
     "metadata": {
      "needs_background": "light"
     },
     "output_type": "display_data"
    }
   ],
   "source": [
    "plt.plot(model.history.history['val_accuracy'])\n",
    "plt.plot(model.history.history['accuracy'])\n",
    "plt.grid()\n",
    "plt.show()"
   ]
  },
  {
   "cell_type": "code",
   "execution_count": 154,
   "id": "0f1122dc",
   "metadata": {},
   "outputs": [],
   "source": [
    "model.save('DNN_raw.h5')"
   ]
  }
 ],
 "metadata": {
  "kernelspec": {
   "display_name": "Python 3 (ipykernel)",
   "language": "python",
   "name": "python3"
  },
  "language_info": {
   "codemirror_mode": {
    "name": "ipython",
    "version": 3
   },
   "file_extension": ".py",
   "mimetype": "text/x-python",
   "name": "python",
   "nbconvert_exporter": "python",
   "pygments_lexer": "ipython3",
   "version": "3.9.13"
  }
 },
 "nbformat": 4,
 "nbformat_minor": 5
}
